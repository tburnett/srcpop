{
 "cells": [
  {
   "cell_type": "code",
   "execution_count": 1,
   "id": "b68a2893-77c3-4d66-878a-20b17effd217",
   "metadata": {},
   "outputs": [
    {
     "data": {
      "text/markdown": [
       "# Gevatar population estimate"
      ],
      "text/plain": [
       "<pylib.ipynb_docgen.doc_formatter.<locals>.MimeBundleObject at 0x7f9425d25240>"
      ]
     },
     "metadata": {},
     "output_type": "display_data"
    },
    {
     "data": {
      "text/markdown": [
       "<h5 style=\"text-align:right; margin-right:15px\"> 2024-04-25 13:55</h5>"
      ],
      "text/plain": [
       "<pylib.ipynb_docgen.doc_formatter.<locals>.MimeBundleObject at 0x7f9425d25720>"
      ]
     },
     "metadata": {},
     "output_type": "display_data"
    },
    {
     "data": {
      "text/markdown": [
       "Not applying ML, so no class fits to generate prediction model. Instead we compute KDE probability density distributions\n",
       "for the ML trainers, which we then apply to the unid and bcu associations."
      ],
      "text/plain": [
       "<pylib.ipynb_docgen.doc_formatter.<locals>.MimeBundleObject at 0x7f9425d257b0>"
      ]
     },
     "metadata": {},
     "output_type": "display_data"
    },
    {
     "data": {
      "text/html": [
       "<details open class=\"nbdoc-description\" >  <summary> Setup: </summary>  <div style=\"margin-left: 25px;\"><pre>Loaded Fermi 4FGL gll_psc_dr4.fit: 7195 entries<br>Remove 382 without valid r95 or variability or significance&gt;4<br>            -&gt; 6813 remain<br>Loaded Fermi 4FGL gll_psc_dr3.fit: 6659 entries<br>Apply DR3 LP values for all but 542 sources.<br></pre></div> </details>"
      ],
      "text/plain": [
       "<pylib.ipynb_docgen.doc_formatter.<locals>.MimeBundleObject at 0x7f9424480bb0>"
      ]
     },
     "metadata": {},
     "output_type": "display_data"
    },
    {
     "data": {
      "text/markdown": [
       "### Data selection cut: \"0.15<Ep<10 & variability<25\""
      ],
      "text/plain": [
       "<pylib.ipynb_docgen.doc_formatter.<locals>.MimeBundleObject at 0x7f9424397a60>"
      ]
     },
     "metadata": {},
     "output_type": "display_data"
    },
    {
     "data": {
      "text/html": [
       "<div style=\"margin-left: 25px\"><table border=\"1\" class=\"dataframe\">\n",
       "  <thead>\n",
       "    <tr style=\"text-align: right;\">\n",
       "      <th>subset</th>\n",
       "      <th>blazar</th>\n",
       "      <th>psr</th>\n",
       "      <th>msp</th>\n",
       "      <th>unid</th>\n",
       "    </tr>\n",
       "  </thead>\n",
       "  <tbody>\n",
       "    <tr>\n",
       "      <th>total</th>\n",
       "      <td>2283</td>\n",
       "      <td>140</td>\n",
       "      <td>176</td>\n",
       "      <td>3903</td>\n",
       "    </tr>\n",
       "    <tr>\n",
       "      <th>selected</th>\n",
       "      <td>438</td>\n",
       "      <td>131</td>\n",
       "      <td>169</td>\n",
       "      <td>2141</td>\n",
       "    </tr>\n",
       "    <tr>\n",
       "      <th>%</th>\n",
       "      <td>19</td>\n",
       "      <td>94</td>\n",
       "      <td>96</td>\n",
       "      <td>55</td>\n",
       "    </tr>\n",
       "  </tbody>\n",
       "</table></div>"
      ],
      "text/plain": [
       "<pylib.ipynb_docgen.doc_formatter.<locals>.MimeBundleObject at 0x7f94244818d0>"
      ]
     },
     "metadata": {},
     "output_type": "display_data"
    },
    {
     "data": {
      "text/markdown": [
       "## Create KDE functions instead of ML training\n",
       "* Classes: psr, msp, blazar\n",
       "* Features: sqrt_d, log_epeak, diffuse \n",
       "\n",
       "Apply to unids + bcus"
      ],
      "text/plain": [
       "<pylib.ipynb_docgen.doc_formatter.<locals>.MimeBundleObject at 0x7f9424482740>"
      ]
     },
     "metadata": {},
     "output_type": "display_data"
    },
    {
     "data": {
      "text/markdown": [
       "Selected Unid content:"
      ],
      "text/plain": [
       "<pylib.ipynb_docgen.doc_formatter.<locals>.MimeBundleObject at 0x7f9488cfccd0>"
      ]
     },
     "metadata": {},
     "output_type": "display_data"
    },
    {
     "data": {
      "text/html": [
       "<div style=\"margin-left: 25px\"><table border=\"1\" class=\"dataframe\">\n",
       "  <thead>\n",
       "    <tr style=\"text-align: right;\">\n",
       "      <th>class1</th>\n",
       "      <th></th>\n",
       "      <th>bcu</th>\n",
       "      <th>unk</th>\n",
       "    </tr>\n",
       "  </thead>\n",
       "  <tbody>\n",
       "    <tr>\n",
       "      <th>source count</th>\n",
       "      <td>1514</td>\n",
       "      <td>535</td>\n",
       "      <td>92</td>\n",
       "    </tr>\n",
       "  </tbody>\n",
       "</table></div>"
      ],
      "text/plain": [
       "<pylib.ipynb_docgen.doc_formatter.<locals>.MimeBundleObject at 0x7f9424481ae0>"
      ]
     },
     "metadata": {},
     "output_type": "display_data"
    }
   ],
   "source": [
    "%run pylib/ml_fit show include_bcu kde_no_dcut  title \"Gevatar population estimate\"\n",
    "mlfit=self\n",
    "palette = self.palette\n",
    "class_names = list(self.trainers.keys())\n",
    "\n",
    "show(f\"\"\"Selected Unid content:\"\"\")\n",
    "show(pd.Series(unid.groupby('class1').size(),name='source count'))"
   ]
  },
  {
   "cell_type": "code",
   "execution_count": 2,
   "id": "2764fc6b-c2dd-4750-8290-f01f14373820",
   "metadata": {},
   "outputs": [
    {
     "data": {
      "text/markdown": [
       "## save data to file `files/gevatar_data.csv`"
      ],
      "text/plain": [
       "<pylib.ipynb_docgen.doc_formatter.<locals>.MimeBundleObject at 0x7f9488cfe7a0>"
      ]
     },
     "metadata": {},
     "output_type": "display_data"
    }
   ],
   "source": [
    "show(f\"\"\"## save data to file `{(data_file:='files/gevatar_data.csv')}`\"\"\")\n",
    "data.iloc[:,:-5].to_csv(data_file,float_format='%.3f')"
   ]
  },
  {
   "cell_type": "code",
   "execution_count": 3,
   "id": "9912eae7-4236-434c-be57-76e263a3d0f5",
   "metadata": {},
   "outputs": [
    {
     "data": {
      "text/markdown": [
       "### Evaluate KDE's on a 3-D grid, for components & unid\n",
       "Uses the scipy  [gaussian_kde](https://docs.scipy.org/doc/scipy/reference/generated/scipy.stats.gaussian_kde.html) \"bw_method\"=\n",
       "        0.25"
      ],
      "text/plain": [
       "<pylib.ipynb_docgen.doc_formatter.<locals>.MimeBundleObject at 0x7f9423e580a0>"
      ]
     },
     "metadata": {},
     "output_type": "display_data"
    }
   ],
   "source": [
    "%run pylib/kde\n",
    "sns.set_theme('paper')\n",
    "\n",
    "self = fs= FeatureSpace(N=23,\n",
    "                   limits=dict( sqrt_d=(0.,np.sqrt(2)),\n",
    "                    log_epeak=np.log10([0.15, 10]),\n",
    "                    diffuse=(-1, 2), )\n",
    "                   )\n",
    "self.dark_mode = dark_mode\n",
    "show(f\"\"\"### Evaluate KDE's on a 3-D grid, for components & unid\n",
    "Uses the scipy  [gaussian_kde](https://docs.scipy.org/doc/scipy/reference/generated/scipy.stats.gaussian_kde.html) \"bw_method\"=\n",
    "        {(bw_method:=0.25)}\"\"\")\n",
    "\n",
    "grps = data.groupby('subset')\n",
    "df_dict = dict( (name, grps.get_group(name)) for name in class_names )\n",
    "self.train( df_dict, bw_method)"
   ]
  },
  {
   "cell_type": "code",
   "execution_count": 4,
   "id": "69abc96d-bd4e-46cb-8905-7e017945114b",
   "metadata": {},
   "outputs": [
    {
     "data": {
      "text/markdown": [
       "### Projections"
      ],
      "text/plain": [
       "<pylib.ipynb_docgen.doc_formatter.<locals>.MimeBundleObject at 0x7f94244a7520>"
      ]
     },
     "metadata": {},
     "output_type": "display_data"
    },
    {
     "data": {
      "text/html": [
       "<div style=\"margin-left: 10px\"><a id=\"Figure_None\"/><figure style=\"margin-left: 10px\">   <img src=\"data:image/png;base64,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\"  > <br> </figure></div>"
      ],
      "text/plain": [
       "<pylib.ipynb_docgen.doc_formatter.<locals>.MimeBundleObject at 0x7f9421b29120>"
      ]
     },
     "metadata": {},
     "output_type": "display_data"
    }
   ],
   "source": [
    "show(f\"\"\"### Projections\"\"\")\n",
    "sns.set_theme('talk')\n",
    "sns.set_style('ticks')\n",
    "labels = dict(sqrt_d = '$\\sqrt{d}$',\n",
    "              log_epeak = '$\\log_{10}(E_p)$',\n",
    "              diffuse = '$D$')\n",
    "def projection_check(self, df_dict, palette):\n",
    "    \"\"\"Density plots for each of the features comparing the training data with projections of \n",
    "    the KDE fits.\n",
    "\n",
    "    \"\"\"\n",
    "    labels = dict(sqrt_d = '$\\sqrt{d}$',\n",
    "              log_epeak = '$\\log_{10}(E_p)$',\n",
    "              diffuse = '$D$')\n",
    "    fig = plt.figure(figsize=(12,7), layout='constrained')\n",
    "    fig.set_facecolor('w')\n",
    "    axx = fig.subplots(ncols=3 ,nrows=3,  sharex='col',\n",
    "                        gridspec_kw=dict(hspace=0.1, wspace=0.1)\n",
    "    )    \n",
    "    for (i, (cls_name, df)), color in zip(enumerate(df_dict.items()), palette):\n",
    "        \n",
    "        for j, var_name in enumerate( self.names ):\n",
    "            ax = axx[i,j]\n",
    "            for spine in 'top right left'.split():\n",
    "                ax.spines[spine].set_visible(False)\n",
    "            ax.spines['bottom'].set_color('k')\n",
    "            sns.histplot(ax=ax,  x=df[var_name], bins=self.bins[var_name], \n",
    "                element='step', stat='density', color='0.8', edgecolor='0.2')\n",
    "    \n",
    "            sns.lineplot( ax=ax, **self.projection_dict(var_name, cls_name), \n",
    "                        color=color, ls='-', marker='', lw=2)\n",
    "            ax.set( xlim=self.limits[var_name], ylabel='', yticks=[], facecolor='w',\n",
    "                  xlabel= labels[var_name])\n",
    "                             \n",
    "        axx[i,0].set_ylabel(cls_name+f'\\n{len(df)}', rotation='horizontal', ha='center')\n",
    " \n",
    "    return fig\n",
    "fig = projection_check( self, df_dict, palette)\n",
    "show(fig, facecolor='w')\n",
    "fig.savefig('figures/fig-7.png', facecolor='w');\n",
    "# show_fig(projection_check, self, df_dict,  palette, caption='test', facecolor='w')   "
   ]
  },
  {
   "cell_type": "markdown",
   "id": "1083e37a-86b3-437d-868a-c2d27d6d4f11",
   "metadata": {},
   "source": [
    "fig = plt.figure(figsize=(12,7), layout='constrained')\n",
    "axx = fig.subplots(ncols=3 ,nrows=3,  sharex='col',\n",
    "                        gridspec_kw=dict(hspace=0.1, wspace=0.1))"
   ]
  },
  {
   "cell_type": "code",
   "execution_count": 20,
   "id": "51b3610d-b33c-4357-b9d3-6d591a8c2f05",
   "metadata": {},
   "outputs": [
    {
     "data": {
      "text/markdown": [
       "### 3-D optimization"
      ],
      "text/plain": [
       "<pylib.ipynb_docgen.doc_formatter.<locals>.MimeBundleObject at 0x7f940b1208e0>"
      ]
     },
     "metadata": {},
     "output_type": "display_data"
    },
    {
     "data": {
      "text/markdown": [
       "Fit slice"
      ],
      "text/plain": [
       "<pylib.ipynb_docgen.doc_formatter.<locals>.MimeBundleObject at 0x7f9423fa07c0>"
      ]
     },
     "metadata": {},
     "output_type": "display_data"
    },
    {
     "data": {
      "text/html": [
       "<div style=\"margin-left: 25px\"><table border=\"1\" class=\"dataframe\">\n",
       "  <thead>\n",
       "    <tr style=\"text-align: right;\">\n",
       "      <th></th>\n",
       "      <th>var_name</th>\n",
       "      <th>idx</th>\n",
       "    </tr>\n",
       "  </thead>\n",
       "  <tbody>\n",
       "    <tr>\n",
       "      <th>blazar</th>\n",
       "      <td>sqrt_d</td>\n",
       "      <td>slice(0, 6, None)</td>\n",
       "    </tr>\n",
       "    <tr>\n",
       "      <th>psr</th>\n",
       "      <td>diffuse</td>\n",
       "      <td>slice(18, -1, None)</td>\n",
       "    </tr>\n",
       "    <tr>\n",
       "      <th>msp</th>\n",
       "      <td>log_epeak</td>\n",
       "      <td>slice(10, 13, None)</td>\n",
       "    </tr>\n",
       "  </tbody>\n",
       "</table></div>"
      ],
      "text/plain": [
       "<pylib.ipynb_docgen.doc_formatter.<locals>.MimeBundleObject at 0x7f9423fa0a90>"
      ]
     },
     "metadata": {},
     "output_type": "display_data"
    },
    {
     "data": {
      "text/markdown": [
       "Fit"
      ],
      "text/plain": [
       "<pylib.ipynb_docgen.doc_formatter.<locals>.MimeBundleObject at 0x7f940b120a30>"
      ]
     },
     "metadata": {},
     "output_type": "display_data"
    },
    {
     "data": {
      "text/html": [
       "<div style=\"margin-left: 25px\"><table border=\"1\" class=\"dataframe\">\n",
       "  <thead>\n",
       "    <tr style=\"text-align: right;\">\n",
       "      <th></th>\n",
       "      <th>fit</th>\n",
       "      <th>unc</th>\n",
       "    </tr>\n",
       "  </thead>\n",
       "  <tbody>\n",
       "    <tr>\n",
       "      <th>psr</th>\n",
       "      <td>516.0</td>\n",
       "      <td>20.6</td>\n",
       "    </tr>\n",
       "    <tr>\n",
       "      <th>msp</th>\n",
       "      <td>243.6</td>\n",
       "      <td>29.8</td>\n",
       "    </tr>\n",
       "    <tr>\n",
       "      <th>blazar</th>\n",
       "      <td>485.0</td>\n",
       "      <td>47.7</td>\n",
       "    </tr>\n",
       "  </tbody>\n",
       "</table></div>"
      ],
      "text/plain": [
       "<pylib.ipynb_docgen.doc_formatter.<locals>.MimeBundleObject at 0x7f940b269210>"
      ]
     },
     "metadata": {},
     "output_type": "display_data"
    },
    {
     "data": {
      "text/markdown": [
       "Covariance matrix:"
      ],
      "text/plain": [
       "<pylib.ipynb_docgen.doc_formatter.<locals>.MimeBundleObject at 0x7f940b26a3b0>"
      ]
     },
     "metadata": {},
     "output_type": "display_data"
    },
    {
     "data": {
      "text/plain": [
       "array([[ 425.8, -582.4, -295.1],\n",
       "       [-582.4,  885.8,  422.2],\n",
       "       [-295.1,  422.2, 2273.6]])"
      ]
     },
     "metadata": {},
     "output_type": "display_data"
    },
    {
     "data": {
      "text/markdown": [
       "sum: 1244.6 $\\pm$ 51.7"
      ],
      "text/plain": [
       "<pylib.ipynb_docgen.doc_formatter.<locals>.MimeBundleObject at 0x7f940b268be0>"
      ]
     },
     "metadata": {},
     "output_type": "display_data"
    },
    {
     "data": {
      "text/markdown": [
       "Correlation matrix:"
      ],
      "text/plain": [
       "<pylib.ipynb_docgen.doc_formatter.<locals>.MimeBundleObject at 0x7f940b26baf0>"
      ]
     },
     "metadata": {},
     "output_type": "display_data"
    },
    {
     "data": {
      "text/plain": [
       "array([[ 1.  , -0.95, -0.3 ],\n",
       "       [-0.95,  1.  ,  0.3 ],\n",
       "       [-0.3 ,  0.3 ,  1.  ]])"
      ]
     },
     "metadata": {},
     "output_type": "display_data"
    },
    {
     "data": {
      "text/html": [
       "<div style=\"margin-left: 10px\"><a id=\"Figure_None\"/><figure style=\"margin-left: 10px\">   <img src=\"data:image/png;base64,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\"  > <br> </figure></div>"
      ],
      "text/plain": [
       "<pylib.ipynb_docgen.doc_formatter.<locals>.MimeBundleObject at 0x7f940b26baf0>"
      ]
     },
     "metadata": {},
     "output_type": "display_data"
    },
    {
     "data": {
      "text/markdown": [
       "$\\rightarrow$ Implied number of gevatars:\n",
       "2141-1244.6=896.4 $\\pm$ 51.7 "
      ],
      "text/plain": [
       "<pylib.ipynb_docgen.doc_formatter.<locals>.MimeBundleObject at 0x7f94200c6800>"
      ]
     },
     "metadata": {},
     "output_type": "display_data"
    }
   ],
   "source": [
    "%run pylib/gevatar_fits\n",
    "show(f\"\"\"### 3-D optimization\"\"\")\n",
    "show('Fit slice')\n",
    "fit_slice = dict(\n",
    "    blazar = dict(var_name ='sqrt_d',  idx=slice(0,6),),\n",
    "    psr   = dict(var_name ='diffuse',  idx=slice(18,-1)),\n",
    "    msp = dict(var_name ='log_epeak',  idx=slice(10,13)),\n",
    "    ) \n",
    "show(pd.DataFrame(fit_slice).T)\n",
    "myf = Fitter(fs, unid, fit_slice)\n",
    "\n",
    "\n",
    "        \n",
    "f3 = myf.fit_3d( norms = dict(psr=520,msp=150, blazar=823)  )\n",
    "fit_df = f3.maximize()\n",
    "show('Fit')\n",
    "show(fit_df.T)\n",
    "# show(myf.opt)\n",
    "\n",
    "opt = myf.opt\n",
    "cov = opt.hess_inv\n",
    "show('Covariance matrix:'); show(cov.round(1))\n",
    "\n",
    "t = rf'sum: {(s:=(opt.x).sum()):.1f} $\\pm$ {np.sqrt(cov.sum()):.1f}'\n",
    "show(t)\n",
    "\n",
    "sigs = np.sqrt(cov.diagonal())\n",
    "corr = cov / np.outer(sigs,sigs)\n",
    "show('Correlation matrix:'); show(corr.round(2))\n",
    "\n",
    "sns.set_theme('talk')\n",
    "sns.set_style('ticks')\n",
    "\n",
    "fig = fit_plots( self, fit_df.T.fit,  unid, palette)\n",
    "show(fig)\n",
    "fig.savefig('figures/fig-8.png', facecolor='w', bbox_inches='tight')\n",
    "\n",
    "show(fr\"\"\"$\\rightarrow$ Implied number of gevatars:\n",
    "    {len(unid)}-{s:.1f}={len(unid)-s:.1f} $\\pm$ {np.sqrt(cov.sum()):.1f} \"\"\")"
   ]
  },
  {
   "cell_type": "code",
   "execution_count": 17,
   "id": "0f5545f1-88e5-4481-8e7c-17fd8f5013d7",
   "metadata": {},
   "outputs": [
    {
     "data": {
      "text/html": [
       "<div style=\"margin-left: 25px\"><table border=\"1\" class=\"dataframe\">\n",
       "  <thead>\n",
       "    <tr style=\"text-align: right;\">\n",
       "      <th></th>\n",
       "      <th>var_name</th>\n",
       "      <th>idx</th>\n",
       "    </tr>\n",
       "  </thead>\n",
       "  <tbody>\n",
       "    <tr>\n",
       "      <th>blazar</th>\n",
       "      <td>sqrt_d</td>\n",
       "      <td>slice(0, 6, None)</td>\n",
       "    </tr>\n",
       "    <tr>\n",
       "      <th>psr</th>\n",
       "      <td>diffuse</td>\n",
       "      <td>slice(18, -1, None)</td>\n",
       "    </tr>\n",
       "    <tr>\n",
       "      <th>msp</th>\n",
       "      <td>log_epeak</td>\n",
       "      <td>slice(10, 13, None)</td>\n",
       "    </tr>\n",
       "  </tbody>\n",
       "</table></div>"
      ],
      "text/plain": [
       "<pylib.ipynb_docgen.doc_formatter.<locals>.MimeBundleObject at 0x7f942401d600>"
      ]
     },
     "metadata": {},
     "output_type": "display_data"
    }
   ],
   "source": []
  },
  {
   "cell_type": "code",
   "execution_count": 9,
   "id": "358df247-777e-4c9c-aafc-7ecadd16d828",
   "metadata": {},
   "outputs": [
    {
     "data": {
      "text/html": [
       "<div style=\"margin-left: 25px\"><table border=\"1\" class=\"dataframe\">\n",
       "  <thead>\n",
       "    <tr style=\"text-align: right;\">\n",
       "      <th></th>\n",
       "      <th>psr</th>\n",
       "      <th>msp</th>\n",
       "      <th>blazar</th>\n",
       "    </tr>\n",
       "  </thead>\n",
       "  <tbody>\n",
       "    <tr>\n",
       "      <th>fit</th>\n",
       "      <td>516.0</td>\n",
       "      <td>243.6</td>\n",
       "      <td>485.0</td>\n",
       "    </tr>\n",
       "  </tbody>\n",
       "</table></div>"
      ],
      "text/plain": [
       "<pylib.ipynb_docgen.doc_formatter.<locals>.MimeBundleObject at 0x7f940b4a21a0>"
      ]
     },
     "metadata": {},
     "output_type": "display_data"
    },
    {
     "data": {
      "text/html": [
       "<div style=\"margin-left: 10px\"><a id=\"Figure_None\"/><figure style=\"margin-left: 10px\">   <img src=\"data:image/png;base64,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\"  > <br> </figure></div>"
      ],
      "text/plain": [
       "<pylib.ipynb_docgen.doc_formatter.<locals>.MimeBundleObject at 0x7f940bf4b8b0>"
      ]
     },
     "metadata": {},
     "output_type": "display_data"
    },
    {
     "data": {
      "text/markdown": [
       "Residual for $E_p<1$ GeV: 730<br>\n",
       "Scaled error: 48"
      ],
      "text/plain": [
       "<pylib.ipynb_docgen.doc_formatter.<locals>.MimeBundleObject at 0x7f940bff7520>"
      ]
     },
     "metadata": {},
     "output_type": "display_data"
    }
   ],
   "source": [
    "show(fit_df.T.fit)\n",
    "\n",
    "df = pd.DataFrame(get_deltas(fs, fit_df.T.fit, unid))\n",
    "df['cum_ep'] = -np.cumsum(df.log_epeak)\n",
    "plt.plot(fs.bins['log_epeak'][1:],df.cum_ep) \n",
    "plt.gca().set(**epeak_kw(), ylabel='Cumulative residual')\n",
    "show(plt.gcf());\n",
    "show(f\"\"\"\\\n",
    "Residual for $E_p<1$ GeV: {(n:=df.cum_ep[10]):.0f}<br>\n",
    "Scaled error: {n/896*59:.0f}\n",
    "\"\"\");"
   ]
  },
  {
   "cell_type": "code",
   "execution_count": null,
   "id": "89f3143b-b41f-48f8-943d-95973bda8f14",
   "metadata": {},
   "outputs": [],
   "source": [
    "raise Exception('Quit')\n",
    "# show(f\"\"\"## Maximize sizes of known components\n",
    "# Fit the three projections, independently, to produce an estimate of the unknown \"gevatar\" component.\n",
    "\n",
    "# \"\"\")\n",
    "fit_slice = dict(\n",
    "    blazar = dict(var_name ='sqrt_d',  idx=slice(0,6),),\n",
    "    psr   = dict(var_name ='diffuse',  idx=slice(18,-1)),\n",
    "    msp = dict(var_name ='log_epeak',  idx=slice(10,13)),\n",
    "    ) \n",
    "# norms = dict(psr=495,msp=140, blazar=249)   \n",
    "norms = dict(psr=520,msp=150, blazar=823)  \n",
    "# 823.0, 520.0, 142.0\n",
    "\n",
    "myf = Fitter(fs, unid, fit_slice)\n",
    "# show((fits_df:=myf.new_fit(norms)).loc[:,'var_name range fit sigma'.split()])\n",
    "\n",
    "# # fits_df = fitter(self, unid, norms, fit_slice)\n",
    "# # show(fits_df.loc[:,'var_name range fit sigma'.split()])\n",
    "\n",
    "# show(fr\"\"\"$\\rightarrow$ Implied number of gevatars: {len(unid)-fits_df.fit.sum()}\"\"\")"
   ]
  },
  {
   "cell_type": "code",
   "execution_count": null,
   "id": "f356c4f2-8216-4aaa-8db2-aa0fc557a273",
   "metadata": {},
   "outputs": [],
   "source": [
    "\n",
    "# var_labels = dict(sqrt_d = '$\\sqrt{d}$',\n",
    "#               log_epeak = '$\\log_{10}(E_p)$',\n",
    "# #               diffuse = '$D$')\n",
    "# norms = fits_df.fit.copy() \n",
    "def fit_plots(self, norms, unid):\n",
    "    fig = plt.figure(layout='constrained', figsize=(12, 8))\n",
    "    subfig1, subfig2= fig.subfigures(nrows=2,  hspace=0.1, height_ratios=(3,2))\n",
    "    data_model(self,  norms, unid, subfig1, palette)\n",
    "    show_diffs(self,  norms, unid, subfig2, palette)\n",
    "    fig.text(0.2, 0.4, 'Model contents\\n'+'\\n'.join(str(pd.Series(norms)).split('\\n')[:-1]),\n",
    "             ha='right',va='top');\n",
    "#     return fig\n",
    "# fig= fit_plots( self, norms, unid)\n",
    "# \n",
    "# show(fig)"
   ]
  },
  {
   "cell_type": "code",
   "execution_count": null,
   "id": "d7323de6-77b2-4be8-9300-ee35b7ec3c4d",
   "metadata": {},
   "outputs": [],
   "source": [
    "def d_vs_Ep(data):\n",
    "    xykw = dict(x=data.log_epeak,# -np.sqrt(data.d)/6, \n",
    "                y= np.sqrt(data.d)# +data.log_epeak/2\n",
    "               )#'d')\n",
    "    # from matplotlib.ticker import FormatStrFormatter\n",
    "    # fig, ax = plt.subplots(figsize=(10,10))\n",
    "    jp = sns.jointplot(data, **xykw , height=10, #ax=ax, \n",
    "                        hue='subset', hue_order='psr msp blazar unid'.split(),\n",
    "                        edgecolor='none',   palette=palette+['0.5'], s=40,\n",
    "                        marginal_kws=dict( common_norm=True),\n",
    "                       # joint_kws=dict(style='subset', style_order='psr msp blazar unid'.split(),\n",
    "                       #                markers='DoV'),                   \n",
    "                      )\n",
    "\n",
    "    jp.ax_joint.set(ylabel='$\\sqrt{d}$', yticks=np.arange(0.,1.6,0.5), \n",
    "                    ylim=(0.,1.5),  xlim=(-1,1),    **epeak_kw())\n",
    "    plt.legend(loc='lower left', bbox_to_anchor=(1,1))\n",
    "    return jp.figure\n",
    "    \n",
    "show(r\"\"\"## $\\sqrt{d}$ vs $E_p$\n",
    "\"\"\")\n",
    "show_fig(d_vs_Ep, data.query('10>Ep>0.15 & d>0') )"
   ]
  },
  {
   "cell_type": "code",
   "execution_count": null,
   "id": "0783538d-e2f0-47eb-abb6-eff01c0621c1",
   "metadata": {},
   "outputs": [],
   "source": [
    "raise Exception('stop')"
   ]
  },
  {
   "cell_type": "code",
   "execution_count": null,
   "id": "3dd819eb-cf06-4d61-9aac-5a85c70c780e",
   "metadata": {
    "jupyter": {
     "source_hidden": true
    }
   },
   "outputs": [],
   "source": [
    "# %run pylib/gevatar_fits\n",
    "# class Fitter:\n",
    "    \n",
    "#     def __init__(self, fs, unid,  fit_slice): #self, unid, norms, fit_slice=None):\n",
    "#         \"\"\"fs: FeatureSpace object\n",
    "#         \"\"\"\n",
    "#         self.fs = fs\n",
    "#         self.unid = unid\n",
    "#         self.fit_slice=fit_slice\n",
    "#         self.proj_info = fs.projection_info(unid)\n",
    "\n",
    "#     def fit_function(self,norms):\n",
    "#         \"\"\"Return a dict with the three slice likelihood functions\n",
    "#         \"\"\"\n",
    "        \n",
    "#         def slice_loglike( x, cls_name, *, var_name, idx,):  \n",
    "#             \"\"\"Evaluate log likelihood\n",
    "        \n",
    "#             norms: dict with input norms\n",
    "#             x : dependent variable, number of counts for cls_name\n",
    "#             var_name \n",
    "#             \"\"\"\n",
    "#             n = norms.copy()\n",
    "#             n[cls_name] = x\n",
    "#             fs = self.fs\n",
    "#             df = self.proj_info[var_name]\n",
    "\n",
    "#             N = df.unid[idx].sum() \n",
    "            \n",
    "#             var_norm = fs.size[var_name]/fs.N\n",
    "            \n",
    "#             model = np.zeros(fs.N)        \n",
    "#             for cls_name in fs.class_names:\n",
    "#                 y = n[cls_name]*var_norm* df[cls_name]\n",
    "#                 model+=y\n",
    "#             mu = model[idx].sum()#.round(3) \n",
    "#             return N * np.log(mu) - mu\n",
    " \n",
    "#         return dict(\n",
    "#             blazar= lambda x: slice_loglike(x, 'blazar', **self.fit_slice['blazar']),\n",
    "#             psr   = lambda x: slice_loglike(x, 'psr',    **self.fit_slice['psr']),\n",
    "#             msp  =  lambda x: slice_loglike(x, 'msp',    **self.fit_slice['msp']),\n",
    "#             )\n",
    "\n",
    "#     def new_fit(self, norms):\n",
    "#         from scipy import optimize\n",
    "#         import copy\n",
    "#         fit_info = copy.deepcopy(self.fit_slice)\n",
    "\n",
    "#         f = self.fit_function(norms)\n",
    "#         for cls_name in self.fit_slice.keys(): #, ax in axd.items():\n",
    "            \n",
    "#             opt = optimize.minimize(\n",
    "#                 lambda x: -np.array([f[cls_name](x)]), \n",
    "#                 x0=norms[cls_name], \n",
    "#                 )            \n",
    "#             fit_info[cls_name]['fit'] = round(opt.x[0])\n",
    "#             fit_info[cls_name]['sigma'] = round(np.sqrt(opt.hess_inv).diagonal()[0])\n",
    "            \n",
    "#         fits = pd.DataFrame(fit_info).T\n",
    "#         def get_range(r):\n",
    "#             t = self.fs.bins[r.var_name][r.idx]\n",
    "#             return (t[0], t[-1])\n",
    "#         fits['range']= fits.apply(get_range, axis=1) \n",
    "#         fits.index.name='class name'\n",
    "#         return fits       \n",
    "        \n",
    "#     def old_fit(self, norms):\n",
    "#         return fitter(self.fs, self.unid, norms, self.fit_slice)\n",
    "\n",
    "# myf = Fitter(fs, unid, fit_slice)\n",
    "# show(\"\"\"#### Old fits \"\"\")\n",
    "# %time show(myf.old_fit(norms))\n",
    "# show(\"\"\"#### New fits \"\"\")\n",
    "# %time show(myf.new_fit(norms))\n",
    "        \n",
    "    "
   ]
  },
  {
   "cell_type": "code",
   "execution_count": null,
   "id": "9533a60f-7268-48d7-b5f7-040a0eecfca3",
   "metadata": {},
   "outputs": [],
   "source": [
    "show(list(norms.items()))\n",
    "show( dict( (n,v) for n,v in norms.items() ))\n",
    "f = myf.fit_function(norms)\n",
    "show( np.sum([f[n]( norms[n] ) for n in norms.keys()]) )\n",
    "list(dict(norms).values())"
   ]
  },
  {
   "cell_type": "code",
   "execution_count": null,
   "id": "ba33d168-59ef-429b-957e-869d6adb44f9",
   "metadata": {},
   "outputs": [],
   "source": [
    "show_fig(fit_plots, self,  dict(psr=516,msp=243, blazar=516), unid) \n",
    "show(fr\"\"\"$\\rightarrow$ Implied number of gevatars:\n",
    "    {len(unid)}-{(s:=opt.x.sum().round(0))}={len(unid)-s} \"\"\")"
   ]
  },
  {
   "cell_type": "code",
   "execution_count": null,
   "id": "5943b9ad-d87e-4872-a160-5a8d48e5ec14",
   "metadata": {},
   "outputs": [],
   "source": [
    "show(f\"\"\"\n",
    "### Quadrant counts\n",
    "Now lets define four quadrants centered on d=0.5, Ep=1 GeV.\n",
    "\"\"\")\n",
    "show((tot:=pd.Series(data.groupby('subset').size(),name='total')))\n",
    "def quad(s):\n",
    "    return (1 if (s.Ep>1) else 0) + (2 if (s.d>0.4) else 0)\n",
    "data['quad'] = data.apply(quad, axis=1) \n",
    "np.unique(data.quad, return_counts=True)[1]\n",
    "t=pd.Series(data.query('subset!=\"spp\"').groupby(['subset','quad']).size(),name=\"# sources\")\n",
    "\n",
    "r = t.to_numpy().reshape(4,4)\n",
    "sdf = pd.DataFrame(r, index='blazar msp psr unid'.split())\n",
    "show(sdf)\n",
    "# show(f\"\"\"Combine msp+psr:\n",
    "#     {(pulsar:=pd.Series(sdf.loc['msp':'psr', :].sum(),name='pulsar'))}\n",
    "#     \"\"\")\n",
    "show(f\"\"\"Get factors for scaling up the known guys\"\"\")\n",
    "factors = pd.Series(norms / r.sum(axis=1)[:-1], name='factor') ; \n",
    "with pd.option_context('display.precision', 2):\n",
    "    show(factors)"
   ]
  },
  {
   "cell_type": "code",
   "execution_count": null,
   "id": "b56bc38c-edf8-494a-9acb-42940e17b5b3",
   "metadata": {},
   "outputs": [],
   "source": [
    "show(f\"\"\"## Check to see if the bcu and unk sources are different\"\"\")\n",
    "fig, ax = plt.subplots(figsize=(8,8))\n",
    "sns.scatterplot(unid.query('4>Ep>0.2 & d>0.25'), ax=ax, hue= 'class1', \n",
    "                x=data.log_epeak - (y:=np.sqrt(data.d.clip(0,2))/6) , y=y, s=10,\n",
    "                palette=palette,)\n",
    "show(fig)\n",
    "show(\"\"\"Conclude: No.\"\"\")\n",
    "     #  element='step',  bins=np.arange(-1,0.5,0.05), )      "
   ]
  },
  {
   "cell_type": "code",
   "execution_count": null,
   "id": "dff82e9c-3967-4b66-8c91-5621804ac52e",
   "metadata": {},
   "outputs": [],
   "source": [
    "# data['weight'] =\n",
    "def get_factors(name):\n",
    "    if name in factors:\n",
    "        return factors[name]\n",
    "    if name=='unid': return 1\n",
    "    else: return 0\n",
    "        \n",
    "data['weight'] = data.subset.apply(get_factors)"
   ]
  },
  {
   "cell_type": "code",
   "execution_count": null,
   "id": "6cfdc442-8f8d-4098-a425-e3865cc68aa9",
   "metadata": {},
   "outputs": [],
   "source": [
    "fig, ax = plt.subplots(figsize=(8,6))\n",
    "sqrtd= np.sqrt(data.d.clip(0,2))\n",
    "sns.histplot(data.query('4>Ep>0.2 & d>0.25'),ax=ax, x=data.log_epeak -sqrtd/6,\n",
    "             element='step',  bins=np.arange(-1,0.5,0.05), \n",
    "             weights= 'weight', alpha=0.5,\n",
    "             hue='subset', hue_order='psr msp blazar'.split(), multiple='stack',\n",
    "            palette=palette);\n",
    "sns.histplot(data.query('4>Ep>0.2 & d>0.25'),ax=ax, x=data.log_epeak -sqrtd/6,\n",
    "             element='step',  bins=np.arange(-1,0.5,0.05),\n",
    "             hue='subset', hue_order=['unid'], color=['0.5'], edgecolor='yellow',\n",
    "             legend=False,\n",
    "            );"
   ]
  },
  {
   "cell_type": "code",
   "execution_count": null,
   "id": "3bdfe22b-bb35-4290-b1e2-931aee517e35",
   "metadata": {},
   "outputs": [],
   "source": [
    "def fpeak_kw(axis='x'):\n",
    "    return {axis+'label':r'Peak flux $F_p\\ \\ \\mathrm{ (eV\\ cm^{-2}\\ s^{-1})}$', \n",
    "            axis+'ticks': np.arange(-2,4.9,2),\n",
    "            axis+'ticklabels': '$10^{-2}$ 1 100 $10^4$'.split(),\n",
    "            axis+'lim': (-2.5,4.5 ),\n",
    "            }\n",
    "show(f\"\"\"## Study $F_p$ vs diffuse for blazars\n",
    "Select \"{(cut:=\"variability<25 & 0.15<Ep<4 & d>0.2\")}\" \"\"\")\n",
    "# fig, ax = plt.subplots(figsize=(15,6))\n",
    "data = mlfit.df.query(cut).copy();# print(len(data))\n",
    "apply_diffuse(data)\n",
    "\n",
    "jnt = sns.jointplot(data, x='diffuse', y=data.log_fpeak.clip(-2.5,3), height=8, #.clip(-3,3), \n",
    "                hue='association', hue_order='fsrq bll bcu'.split(), palette=mlfit.palette, edgecolor='none',\n",
    ");\n",
    "jnt.ax_joint.set(**diffuse_kw(), ** fpeak_kw('y'))\n",
    "show(jnt.figure)"
   ]
  },
  {
   "cell_type": "code",
   "execution_count": null,
   "id": "f9ead01a-8796-4317-bb2f-50d317f58492",
   "metadata": {},
   "outputs": [],
   "source": [
    "\n",
    "def compare(which ='bcu'):\n",
    "    subset = data.query(f'association==\"{which}\" & Ep>0.1')\n",
    "    show(f\"\"\"## Compare pulsars and the {len(subset)} {which}s:\n",
    "    \"\"\")\n",
    "    \n",
    "    for name, y, kw in [ ('$F_p$', 'log_fpeak', fpeak_kw('y')), \n",
    "                         ('$E_p$', 'log_epeak', epeak_kw('y')),\n",
    "                         ('$d$', 'd', dict(yticks=np.arange(0,2.1, 0.5)) ),\n",
    "                          ]:\n",
    "        show( f\"\"\"### {name} vs diffuse\"\"\")\n",
    "        \n",
    "        jnt = sns.jointplot(data, x='diffuse', y=y, height=6, hue='association', hue_order='psr msp'.split(), \n",
    "                            palette=mlfit.palette[:2], edgecolor='none', )\n",
    "        jnt.ax_joint.set(**diffuse_kw(), **kw) \n",
    "        sns.kdeplot(subset, ax=jnt.ax_joint, x='diffuse', y=y, color='0.5' )\n",
    "        show(jnt.figure)\n",
    "for which in 'bcu unid'.split():\n",
    "    compare(which)\n"
   ]
  },
  {
   "cell_type": "code",
   "execution_count": null,
   "id": "fcf981f4-14ec-4e86-b8b2-274d813f7bee",
   "metadata": {},
   "outputs": [],
   "source": [
    "show(f\"\"\"### Try to count in upper left quadrant: {(ulcut:='diffuse<0.5 & Ep>1')} \"\"\")\n",
    "t = pd.Series(data.groupby('association').size(), name='total')\n",
    "s = pd.Series(data.query(ulcut).groupby('association').size(), name='ulcut')\n",
    "d = pd.DataFrame([t,s]).loc[:,'msp psr unid'.split()].astype(int)\n",
    "show(d)"
   ]
  },
  {
   "cell_type": "code",
   "execution_count": null,
   "id": "1c3a0fd4-283e-484c-a302-95758bd7efe6",
   "metadata": {},
   "outputs": [],
   "source": [
    "d.loc['ulcut','msp']/d.loc['total','msp'], d.iloc[1,0]/d.iloc[0,0]"
   ]
  },
  {
   "cell_type": "code",
   "execution_count": null,
   "id": "d554852e-2b14-457b-90dd-c0699c3f6e05",
   "metadata": {},
   "outputs": [],
   "source": [
    "show(f\"\"\"### Contents of \"subset\" \"\"\")\n",
    "show(mlfit.df.groupby('subset').size())\n",
    "fig, ax =  plt.subplots(figsize=(10,8))\n",
    "apply_diffuse(mlfit.df)\n",
    "show(\"\"\"## Check diffuse vs. Ep \"\"\")\n",
    "data=mlfit.df.query('log_epeak<1 & variability<25')\n",
    "sns.kdeplot(data, ax=ax, x='log_epeak', y='diffuse',#s=15, edgecolor='none', \n",
    "            clip=((-1,1),(-1,2.2)),   palette=palette+['maroon'],  \n",
    "            hue='subset', hue_order='psr msp blazar unid'.split(), );"
   ]
  },
  {
   "cell_type": "code",
   "execution_count": null,
   "id": "60fadea3-2cc6-4af1-91ac-d92da9a9de09",
   "metadata": {
    "scrolled": true
   },
   "outputs": [],
   "source": [
    "show(\"\"\"## Check Fp vs diffuse \"\"\")\n",
    "# fig, ax =  plt.subplots(figsize=(10,8))\n",
    "data=mlfit.df.query('log_epeak<1 & variability<25')\n",
    "# sns.kdeplot(data, ax=ax, y='log_fpeak', x='diffuse',#s=15, edgecolor='none', \n",
    "#             clip=((-1,2.5),(-2.5,4)),    \n",
    "#             palette=palette+['maroon'],  hue='subset', hue_order='psr msp blazar unid'.split(), );\n",
    "\n",
    "sns.jointplot(data,  y='log_fpeak', x='diffuse', palette=palette+['grey'], \n",
    "              ylim=(-2.5, 5.5),xlim=(-1,2.2), height=10,\n",
    "              hue='subset', hue_order='psr msp blazar unid'.split(), alpha=0.75, edgecolor='none' );"
   ]
  },
  {
   "cell_type": "code",
   "execution_count": null,
   "id": "e4b3a785-ab25-42a2-b90c-83d60012c74c",
   "metadata": {
    "scrolled": true
   },
   "outputs": [],
   "source": [
    "sns.pairplot(data, vars='log_epeak sqrt_d diffuse'.split(), corner=True, height=4,\n",
    "           hue='subset', hue_order='bcu blazar'.split(), palette=palette[:2],\n",
    "            plot_kws=dict(edgecolor='none'),#diag_kws=dict(stat='density')\n",
    "            );"
   ]
  },
  {
   "cell_type": "code",
   "execution_count": null,
   "id": "a520ec52-7233-41a1-bdc9-bd43d5575375",
   "metadata": {},
   "outputs": [],
   "source": [
    "include_bcu\n",
    "# norms = dict(psr=440,msp=270, blazar=225)   \n",
    "# def get_deltas(self, norms, unid):\n",
    "#     pi = self.projection_info(unid)\n",
    "#     deltas = dict()\n",
    "#     for var_name in self.names: \n",
    "    \n",
    "#         df = pi[var_name]\n",
    "#         x = df.x\n",
    "#         unid = df.unid\n",
    "    \n",
    "#         var_norm = self.size[var_name]/self.N\n",
    "#         total = np.zeros(self.N)    \n",
    "        \n",
    "#         for cls_name in self.class_names:\n",
    "#             y = norms[cls_name]*var_norm* df[cls_name]\n",
    "#             total+=y\n",
    "#         deltas[var_name] = (total-unid)/np.sqrt(unid)    \n",
    "#     return deltas\n",
    "# get_deltas(self, norms, unid)"
   ]
  },
  {
   "cell_type": "code",
   "execution_count": null,
   "id": "abbd393b-9c20-4d02-875e-856c0607f728",
   "metadata": {
    "scrolled": true
   },
   "outputs": [],
   "source": [
    "df = pi['sqrt_d']\n",
    "s =pd.Series(df.sum())\n",
    "t = pd.Series(df.iloc[:6,:].sum(), name='sum first 5 bins')\n",
    "show(pd.DataFrame([s,t]).loc[:,'unid blazar psr msp'.split()])\n",
    "show(int(t['unid'] * s['blazar'] /t['blazar']))\n",
    "\n"
   ]
  },
  {
   "cell_type": "code",
   "execution_count": null,
   "id": "fd4b9d11-b075-435c-be5d-0dd0b38f9fad",
   "metadata": {},
   "outputs": [],
   "source": [
    "show(f\"\"\"* KDE values for the unid\"\"\")\n",
    "class KDEfitter:\n",
    "    def __init__(self, unid, names=class_names):\n",
    "        self.names = class_names\n",
    "        self.data = unid.loc[: , [ s+'_kde' for s in class_names]]\n",
    "\n",
    "    def __call__(self, alpha):\n",
    "        \"\"\" return likelihood value\"\"\"\n",
    "        t = (self.data*alpha).sum(axis=1)\n",
    "        return  (np.log(t) -t).sum()\n",
    "\n",
    "    def fit(self, x0=np.ones(3)*1.5) :\n",
    "        from scipy  import optimize\n",
    "        \n",
    "        self.opt_info =opt = optimize.minimize(\n",
    "            lambda x: -self(x), \n",
    "            x0=x0, \n",
    "            method='L-BFGS-B',\n",
    "        )\n",
    "        \n",
    "        with capture_hide('Optimization info') as self.info:\n",
    "            print(self.opt_info)\n",
    "        B = opt.hess_inv  # LinearOperator object\n",
    "        cov = B * np.identity(B.shape[1]) \n",
    "        diag = cov.diagonal()\n",
    "        nfit = pd.Series(opt.x, index=self.names,name='factor')\n",
    "        sigs = pd.Series(np.sqrt(diag), index=self.names, name='+/-')\n",
    "        self.fit_vals =  pd.DataFrame([nfit, sigs])\n",
    "        return self\n",
    "        \n",
    "    def show_fit(self, ):\n",
    "        self.fit()\n",
    "        show(\"\"\"### Partial likelihood results: \"\"\")\n",
    "        with pd.option_context('display.precision', 2):\n",
    "            show(self.fit_vals)\n",
    "        show(self.info)\n",
    "\n",
    "            \n",
    "kf = KDEfitter(unid)\n",
    "kf.show_fit() #[ 1.230,\t0.56,\t1.873])"
   ]
  },
  {
   "cell_type": "code",
   "execution_count": null,
   "id": "34d6d2a0-ff55-4dd3-8807-249767f9b07b",
   "metadata": {},
   "outputs": [],
   "source": [
    "psr_data = KDEfitter(data.query(f'subset==\"psr\"'))\n",
    "msp_data = KDEfitter(data.query(f'subset==\"msp\"'))\n",
    "agn_data = KDEfitter(data.query(f'subset==\"blazar\"'))\n",
    "psr_f = lambda x: psr_data([x, 0, 0])\n",
    "msp_f = lambda x: msp_data([0, x, 0])\n",
    "agn_f = lambda x: agn_data([0, 0, x])\n",
    "plt.plot((x:=np.arange(0.7,1., 0.025)), [psr_f(t)-psr_f(1) for t in x], label='psr' );\n",
    "plt.plot((x:=np.arange(0.7,1, 0.025)), [msp_f(t)-msp_f(1) for t in x], label='msp');\n",
    "plt.plot((x:=np.arange(1,1.5, 0.025)), [agn_f(t)-agn_f(1) for t in x], label='agn');\n",
    "plt.legend();"
   ]
  },
  {
   "cell_type": "code",
   "execution_count": null,
   "id": "c5133dd7-5b04-4a18-957e-1c794e32b766",
   "metadata": {},
   "outputs": [],
   "source": [
    "for x in 'psr msp blazar unid'.split():\n",
    "    show(x)\n",
    "    with pd.option_context('display.precision', 2):    \n",
    "        show(\n",
    "            KDEfitter(data.query(f'subset==\"{x}\"')).fit().fit_vals\n",
    "        )"
   ]
  },
  {
   "cell_type": "code",
   "execution_count": null,
   "id": "02d1f993-5ac7-4ffe-9cab-846d5121293c",
   "metadata": {},
   "outputs": [],
   "source": [
    "show_fig(ft.component_comparison, unid,  dict(psr=300, msp=300, blazar=200), \n",
    "         self.palette)"
   ]
  },
  {
   "cell_type": "code",
   "execution_count": null,
   "id": "9cb2a7e9-538a-4ea8-ae96-d91eb18b53c0",
   "metadata": {
    "jupyter": {
     "source_hidden": true
    }
   },
   "outputs": [],
   "source": [
    "# def kde_analysis(data, subs, names, thresh_dict):\n",
    "#     \"\"\"KDE distributions. An array of plots where the horizontal axis for each column\n",
    "#     is the KDE distribution for one of the known components. The top row is a scatter plot with respect to\n",
    "#     the unid KDE, in which the points are colored for each of the component KDE values exceding a threshold.\n",
    "#     THe second row is the cumuative distribution of the unid KDE. The lower two rows reflect properties of the \n",
    "#     component KDE: the histogram and its cumulative distribution.\n",
    "#     The vertical dashed lines reflect thesholds used to make estimates of the component's content.  \n",
    "#     \"\"\"\n",
    "#     fig, axx = plt.subplots(ncols=len(names), nrows=4, figsize=(15,10), \n",
    "#                             height_ratios=(4,2,2,2),\n",
    "#                             sharey='row', sharex='col')\n",
    "    \n",
    "#     # loop over columns\n",
    "#     for col,name in enumerate(names):\n",
    "#         x = f'{name}_kde'\n",
    "#         thresh = thresh_dict[name]\n",
    "        \n",
    "#         # first two rows: scatter with unid, cumulative \n",
    "#         unid_data = subs['unid']['data']\n",
    "#         unid_kde = unid_data.unid_kde\n",
    "#         unid_kw = dict(ax=axx[0,col], x=x, y=unid_kde, edgecolor='none',)\n",
    "#         sns.scatterplot(unid_data, **unid_kw, c='0.5', s=10).set(title=name)\n",
    "#         for tname,color in zip(names, 'red orange limegreen'.split()):\n",
    "#             sns.scatterplot(unid_data[unid_data[tname+'_kde']>thresh_dict[tname]], **unid_kw, c=color, s=20)\n",
    "#         sns.ecdfplot(unid_data, ax=(axu:=axx[1,col]), x=x,).set(ylim=(0.8,1))  \n",
    "       \n",
    "#         #second two rows: kde of name\n",
    "#         sub_kde=subs[name]['data'][name+'_kde']\n",
    "#         sns.histplot(ax=axx[2,col], x=sub_kde, element='step', bins=25)\n",
    "#         sns.ecdfplot(ax=(axs:=axx[3,col]), x=sub_kde)\n",
    "    \n",
    "#         # plot position of thresholds, calcualte estimate\n",
    "    \n",
    "#         unid_kde_sub = unid_data[x]\n",
    "#         nu = len(unid_kde_sub); ku = np.sum(unid_kde_sub>thresh)\n",
    "#         ns = len(sub_kde);  ks = np.sum(sub_kde>thresh)\n",
    "#         estimate = int(ns/ks * ku)\n",
    "#         axu.plot(thresh, (nu-ku)/nu, 'or', ms=10, label=f'{ku}/{nu}'); \n",
    "#         axu.legend(loc='lower right', fontsize=12)\n",
    "#         axs.plot(thresh, (ns-ks)/ns, 'or', ms=10,label=f'{ks}/{ns}\\n->{estimate} '); \n",
    "#         axs.legend(loc='lower right', fontsize=12)\n",
    "#         subs[name]['estimate']=estimate   \n",
    "#         subs[name]['factor'] = estimate/ns\n",
    "#         for ax in axx[:,col]:\n",
    "#             ax.axvline(thresh, ls='--', color='pink')\n",
    "#     fig.text(0.06, 0.6, 'unid kde', rotation='vertical', va='center', ha='center' )\n",
    "#     fig.text(0.06, 0.3, 'component kde', rotation='vertical', va='center', ha='center' )\n",
    "        \n",
    "#     return fig"
   ]
  },
  {
   "cell_type": "code",
   "execution_count": null,
   "id": "be05279d-fe7d-4f3f-9c12-f9ead6686b60",
   "metadata": {},
   "outputs": [],
   "source": [
    "def get_norms(self, kdes):\n",
    "    for comp in  kdes.keys():\n",
    "        self.grid[comp+'_kde'] = kdes[comp](self.grid)\n",
    "    # adjust normalization\n",
    "    return self.grid.iloc[:,-4:].sum() * self.volume/self.N**3\n",
    "get_norms(ft, kdes)"
   ]
  },
  {
   "cell_type": "code",
   "execution_count": null,
   "id": "79f5e799-06c7-4b13-b533-db31ae7e2b30",
   "metadata": {},
   "outputs": [],
   "source": [
    "show(f\"\"\"## KDE edge effect\n",
    "Look at PSR and diffuse\n",
    "\"\"\")\n",
    "psr= data[data.subset=='psr']; \n",
    "from pylib.kde import Gaussian_kde\n",
    "fig = plt.figure(figsize=(8,5))\n",
    "ax = fig.subplots()\n",
    "sns.histplot(psr.diffuse, ax=ax, element='step', bins=25, alpha=0.3, \n",
    "             label='PSR data, KDE', kde=True, stat='density');\n",
    "psr_kde = Gaussian_kde(psr, ['diffuse'])\n",
    "binsize=0.1\n",
    "factor = 1.0 #len(psr)*binsize\n",
    "def pfun(kde, x):\n",
    "    return (kde.evaluate(x) + kde.evaluate(4-x))\n",
    "ax.plot((x:=np.arange(-0.5,2.1,0.1)),  pfun(psr_kde,x)*factor, '--',\n",
    "       label='boundary reflection',  color='red')\n",
    "\n",
    "fpcut=30\n",
    "psrx = psr[psr.Fp>fpcut]\n",
    "psr_kdex = Gaussian_kde(psrx, ['diffuse'])\n",
    "ax.plot((x:=np.arange(-0.5,2.1,0.1)),  pfun(psr_kdex,x)*factor,\n",
    "         '-', label=f'$F_p>{fpcut}$', color='yellow')\n",
    "ax.legend(loc='upper left')\n",
    "show(fig)"
   ]
  },
  {
   "cell_type": "code",
   "execution_count": null,
   "id": "835991ef-9355-47e2-b087-560c6c6acc45",
   "metadata": {},
   "outputs": [],
   "source": [
    "\n",
    "# z =ft.grid_kde.copy() #\n",
    "z = ft.grid.iloc[:,-4:].copy()\n",
    "norms = z.sum() * ft.volume/ft.N**3\n",
    "show(norms)\n",
    "\n",
    "show((z / norms) .sum() *  ft.volume/ft.N**3)"
   ]
  },
  {
   "cell_type": "code",
   "execution_count": null,
   "id": "a482a27a-3e55-4c0e-958e-30cef7a73d1e",
   "metadata": {},
   "outputs": [],
   "source": [
    "show(\"\"\"* Create DF with the KDE's applied to the unid dataset\"\"\")\n",
    "unid_kde = pd.DataFrame(index=unid.index)\n",
    "for cname, df in kdes.items():\n",
    "    unid_kde[cname] = df(unid)\n",
    "unid_kde"
   ]
  },
  {
   "cell_type": "code",
   "execution_count": null,
   "id": "60526ede-ecaf-4afe-b693-a53c4e283236",
   "metadata": {},
   "outputs": [],
   "source": [
    "# fig,ax = plt.subplots(figsize=(12,8))\n",
    "sns.pairplot(unid_kde.clip(1e-3,None), height=3, plot_kws=dict(s=10, c='cyan'),\n",
    "            diag_kws=dict(element='step', bins=50, log_scale=(True,True)));#bins=60, log_scale=(False, True),alpha=0.5, element='step');\n"
   ]
  },
  {
   "cell_type": "code",
   "execution_count": null,
   "id": "8550e024-3066-4ee3-85fa-8aba93783ca8",
   "metadata": {},
   "outputs": [],
   "source": [
    "show(\"\"\"## Define a partial likelihood and maximize it\n",
    "That is, form the likelihood using the probabilities for each known component class defined by \n",
    "the KDE analysis and optimize unknown factors for each one.\n",
    "This is partial since the gevatar probability distribution is unknown.\"\"\")\n",
    "\n",
    "class PartialLikelihood:\n",
    "    \n",
    "    def __init__(self, data, names):\n",
    "        # assert  np.all(np.isin(class_names ,unid_kde.columns))\n",
    "        # self.g = data.loc[:, names]\n",
    "        self.names = names\n",
    "        sub_df = dict((name, df) for name,df in data.groupby('subset'))        \n",
    "        self.g = g = sub_df['unid'].loc[:,[name+'_kde' for name in names]]\n",
    "        self.norms = data.groupby('subset').size()[names].values\n",
    "    \n",
    "    def __call__(self, counts):\n",
    "        alpha = counts/self.norms\n",
    "        t = (self.g*alpha).sum(axis=1)\n",
    "        return  (np.log(t) -t).sum()\n",
    "\n",
    "    def fit(self, x0=np.array([250,200,300])) :\n",
    "        from scipy  import optimize\n",
    "        opt = optimize.minimize(lambda x: -self(x), \n",
    "             x0=x0, method='L-BFGS-B')\n",
    "        B = opt.hess_inv  # LinearOperator object\n",
    "        cov = B * np.identity(B.shape[1]) \n",
    "        diag = cov.diagonal()\n",
    "\n",
    "        nfit = pd.Series(opt.x, index=self.names,name='counts')\n",
    "        sigs = pd.Series(np.sqrt(diag), index=self.names, name='+/-')\n",
    "        return pd.DataFrame([nfit, sigs])\n",
    "\n",
    "    def show_fit(self):\n",
    "        show(\"\"\"### Partial likelihood results: \"\"\")\n",
    "        with pd.option_context('display.precision', 1):\n",
    "            show(self.fit())\n",
    "            \n",
    "self = PartialLikelihood(data, class_names) \n",
    "self.show_fit()"
   ]
  },
  {
   "cell_type": "code",
   "execution_count": null,
   "id": "722135ec-ecc1-487a-9815-89f9e60c953b",
   "metadata": {},
   "outputs": [],
   "source": [
    "# self.fit(np.array([200,200,200]))\n",
    "self.norms"
   ]
  },
  {
   "cell_type": "code",
   "execution_count": null,
   "id": "fb368cfb-5e99-49e6-a1c3-97673f7c0145",
   "metadata": {},
   "outputs": [],
   "source": [
    "with pd.option_context('display.precision', 1):\n",
    "    show(self.fit())\n",
    "f = lambda n: self([200, n,300])\n",
    "counts = np.array([200,200,200])\n",
    "t = (self.g*counts).sum(axis=1); t\n",
    "(np.log(t) -t).sum(), f(200)\n",
    "x = np.arange(0,300,10)\n",
    "plt.plot(x, [f(u) for u in x]);\n"
   ]
  },
  {
   "cell_type": "code",
   "execution_count": null,
   "id": "8a958205-b9d4-4161-a9c2-8f2919976c6f",
   "metadata": {},
   "outputs": [],
   "source": [
    "names = class_names\n",
    "sub_df = dict((name, df) for name,df in data.groupby('subset'))        \n",
    "g = sub_df['unid'].loc[:,[name+'_kde' for name in names]]\n",
    "norms = data.groupby('subset').size()[names].values"
   ]
  },
  {
   "cell_type": "code",
   "execution_count": null,
   "id": "cbc81914-cdbc-4ac8-9c88-279b2065a87a",
   "metadata": {
    "scrolled": true
   },
   "outputs": [],
   "source": [
    "UL = PartialLikelihood(unid_kde, class_names)"
   ]
  },
  {
   "cell_type": "code",
   "execution_count": null,
   "id": "10903ef1-07a4-4235-a437-480ef4dea179",
   "metadata": {
    "scrolled": true
   },
   "outputs": [],
   "source": [
    "UL = UnidLikelihood(data, class_names)\n",
    "show('Results:')\n",
    "with pd.option_context('display.precision', 0):\n",
    "    show((ulfit:=UL.fit()))\n",
    "show(f'Estimate for the gevatar content: {len(unid)-int(ulfit.sum(axis=1)[0])}.')"
   ]
  },
  {
   "cell_type": "code",
   "execution_count": null,
   "id": "e1d779f8-7785-4600-b3cb-6ad3f4c30f99",
   "metadata": {},
   "outputs": [],
   "source": [
    "def plot_spectral(self, df, emax=1.5, ):\n",
    "    \"\"\"Spectral shape scatter plots: curvature $d$ vs $E_p$ for the associated sources on the left, and \n",
    "    the unid's on the right.\n",
    "    \"\"\"\n",
    "\n",
    "    fig, (ax1,ax2) = plt.subplots(ncols=2, figsize=(15,6), sharex=True, sharey=True,\n",
    "                                gridspec_kw=dict(wspace=0.08))\n",
    "    kw = dict(x='log_epeak', y='d',  hue='subset', edgecolor='k',)\n",
    "    sns.scatterplot(df[np.isin(df.subset, self.trainer_names)], \n",
    "                    ax=ax1,  s=50, **kw,\n",
    "                    palette=self.palette,    markers='oDv', \n",
    "                    legend='brief');\n",
    "    ax1.set(**epeak_kw(), yticks=np.arange(0.,2.1,0.5), ylabel='Curvature ${d}$',\n",
    "        xlim=(-1,1),ylim=(0.1,2.1));\n",
    "    ax1.legend(loc='upper right')\n",
    "    \n",
    "    sns.scatterplot(df[df.subset=='unid'], ax=ax2, **kw, \n",
    "                     color='0.8' if dark_mode else '0.2', legend=False, s=30 )\n",
    "    # sns.kdeplot(df, ax=ax2, **kw, hue_order=self.target_names, palette=self.palette, alpha=0.4,legend=False );\n",
    "    ax2.set(**epeak_kw(),)# yticks=np.arange(0.5,2.1,0.5));\n",
    "    return fig\n",
    "show(f\"\"\"## Spectral shapes of the associated and unid sources. \"\"\")\n",
    "show_fig( plot_spectral, ml, data) #.query('0.2<diffuse<1.2'),)"
   ]
  },
  {
   "cell_type": "code",
   "execution_count": null,
   "id": "9cbb0adc-8895-451f-9888-03e65afbce53",
   "metadata": {},
   "outputs": [],
   "source": [
    "tdata = data.copy()\n",
    "tdata['KDE contours'] = tdata.subset.apply(lambda x: 'blazar' if x=='blazar' else ('pulsar' if x in 'psr msp'.split() else np.nan)) \n",
    "\n",
    "fig, ax = plt.subplots(figsize=(10,10))\n",
    "kw = dict(x='log_epeak', y='d', )#)\n",
    "sns.kdeplot(tdata, x='log_epeak', y='d', hue='KDE contours', palette=ml.palette[1:], alpha=0.6);\n",
    "\n",
    "ax.set(**epeak_kw(), xlim=(-1,1), ylim=(-0.1,2.2));\n",
    "axt = plt.twiny(ax)\n",
    "axt.set(ylim = ax.get_ylim(), xlim=ax.get_xlim(), xticks=[])\n",
    "sns.scatterplot(tdata[tdata.subset=='unid'], ax=axt, **kw, \n",
    "                     color='green', legend=False, s=10, label='unid' )\n",
    "\n",
    "kent=np.array(['4FGL J0002.1+6721', '4FGL J0009.1-5012', '4FGL J0341.9+3153',\n",
    "       '4FGL J0535.3+0934', '4FGL J0859.2-4729', '4FGL J0859.3-4342',\n",
    "       '4FGL J1357.3-6123', '4FGL J1408.9-5845', '4FGL J1454.3-3946',\n",
    "       '4FGL J1513.0-3118', '4FGL J1534.3-3312', '4FGL J1706.5-4023',\n",
    "       '4FGL J1729.9-2403', '4FGL J1739.5-2929', '4FGL J1743.8-3143',\n",
    "       '4FGL J1854.7+0153', '4FGL J1914.6-1157', '4FGL J2056.4+4351',\n",
    "       '4FGL J2104.0+4623'])\n",
    "david=np.array(['4FGL J0538.9+3549', '4FGL J0838.4-3952', '4FGL J0844.9-4117',\n",
    "       '4FGL J0857.7-4256', '4FGL J0859.2-4729', '4FGL J0859.3-4342',\n",
    "       '4FGL J0900.2-4608', '4FGL J0917.9-4755', '4FGL J1023.3-5747',\n",
    "       '4FGL J1115.1-6118', '4FGL J1619.5-5014', '4FGL J1626.9-2431',\n",
    "       '4FGL J1820.4-1609', '4FGL J1839.4-0553', '4FGL J1847.2-0141',\n",
    "       '4FGL J1847.2-0200', '4FGL J1848.6-0202', '4FGL J1848.7-0129',\n",
    "       '4FGL J1849.4-0117', '4FGL J1850.2-0201', '4FGL J2028.6+4110',\n",
    "       '4FGL J2038.4+4212', '4FGL J2256.4+5829', '4FGL J2258.6+5847'])\n",
    "sns.scatterplot(unid.loc[kent[np.isin(kent, unid.index)]], ax=axt,\n",
    "                x='log_epeak', y='d', edgecolor='white', lw=4, c='none',\n",
    "                legend=False, s=400, label=\"Kent's stars\",marker='*' )\n",
    "sns.scatterplot(unid.loc[david[np.isin(david, unid.index)]], ax=axt,\n",
    "                x='log_epeak', y='d', edgecolor='gold', lw=4, c='none',\n",
    "                legend=False, s=400, marker='D', label=\"David's gold\");\n",
    "axt.legend()\n",
    "show(fig)"
   ]
  },
  {
   "cell_type": "code",
   "execution_count": null,
   "id": "7a8e53c4-044f-47f4-b934-b5ebe31b12b3",
   "metadata": {},
   "outputs": [],
   "source": [
    "from pylib.skymaps import AITfigure\n",
    "(AITfigure(figsize=(15,7))\n",
    " .scatter(unid.loc[np.isin(unid.index, kent)] , marker='*', s=100, label='Kent')\n",
    "  .scatter(unid.loc[np.isin(unid.index,david)], marker='D', s=200,facecolor='none',\n",
    "           edgecolor='white', label='David')\n",
    " .apply(lambda ax: ax.legend())\n",
    ");"
   ]
  },
  {
   "cell_type": "code",
   "execution_count": null,
   "id": "32731d1e-4c75-450d-b74d-e6a53cf3168a",
   "metadata": {},
   "outputs": [],
   "source": [
    "show(f\"\"\"### Check high $d$ and $D$\"\"\")\n",
    "# $E_p$ vs $D$ for $d>{(dcutvalue:=1.9)}$: {sum((dcut:= unid.d>1.95))} sources.\"\"\")\n",
    "\n",
    "fig = plt.figure(layout=\"constrained\", figsize=(10, 5 ))\n",
    "fig1, fig2 = fig.subfigures(ncols=2) \n",
    "ax = fig1.subplots()\n",
    "fig1.suptitle(f\"\"\"High curvature\\n $D$ vs $E_p$: {sum((dcut:= unid.d>1.95))} sources with $d>{(dcutvalue:=1.9)}$\"\"\")\n",
    "sns.scatterplot(unid[dcut], ax=ax, x='log_epeak', y='diffuse')\n",
    "ax.set(**epeak_kw(), ylabel='D', yticks=np.arange(0,2.1,1));\n",
    "\n",
    "ax = fig2.subplots()\n",
    "Dcut= unid.diffuse>1.5\n",
    "fig2.suptitle(f\"\"\"Very galactic\\n$d$ vs $E_p$: {sum(Dcut)} sources with $D>1.5$\"\"\")\n",
    "sns.scatterplot(unid[Dcut] ,ax=ax,  x='log_epeak', y='d')\n",
    "ax.set(**epeak_kw(), yticks=np.arange(0,2.1,0.5))\n",
    "show(fig)\n",
    "\n"
   ]
  },
  {
   "cell_type": "code",
   "execution_count": null,
   "id": "1bcb1f08-a9af-4812-969a-b052088dcb53",
   "metadata": {},
   "outputs": [],
   "source": [
    "show(f\"\"\"## The threshold effect\n",
    "\"\"\")\n",
    "\n",
    "(sns.JointGrid(data, hue='subset', hue_order='psr msp'.split(), height=9,\n",
    "                palette=self.palette[:2],  x='diffuse', y=data.log_fpeak.clip(-2,4.8),)\n",
    "    .plot_joint(sns.scatterplot, edgecolor='none',legend='brief',\n",
    "               markers='oD')\n",
    "    .plot_marginals(sns.histplot, kde=True, element='step', bins=25)\n",
    "    .apply(lambda g: sns.kdeplot(unid,  ax=g.ax_joint, x='diffuse', y='log_fpeak',alpha=0.5))\n",
    "    .apply(lambda g: g.ax_joint.set(**fpeak_kw('y'),  **diffuse_kw()))\n",
    "     .apply(lambda g:g.ax_joint.plot([-0.5, 2], [-1.75, 1.65], \n",
    "                                     ls='--', lw=2, color='0.7' if dark_mode else '0.3')) \n",
    "    .apply(lambda g: show(g.figure))\n",
    ");\n",
    "\n"
   ]
  },
  {
   "cell_type": "code",
   "execution_count": null,
   "id": "9fe59301-84d4-4306-81b7-0cccf7627ada",
   "metadata": {},
   "outputs": [],
   "source": [
    "show(\"\"\"---\"\"\");raise Exception('Stop here')"
   ]
  },
  {
   "cell_type": "code",
   "execution_count": null,
   "id": "1d369c9f-cca0-4540-b445-2e92bf35510c",
   "metadata": {},
   "outputs": [],
   "source": [
    "sns.scatterplot(data, x='psr_kde', y = 'unid_kde', s=10);"
   ]
  },
  {
   "cell_type": "code",
   "execution_count": null,
   "id": "e8f960d3-154e-4064-bd78-0f58e3e79bad",
   "metadata": {},
   "outputs": [],
   "source": [
    "show_fig(ft.component_comparison, unid,  dict(psr=128, msp=97, blazar=502), self.palette)"
   ]
  },
  {
   "cell_type": "code",
   "execution_count": null,
   "id": "298d2901-7590-4799-9bd2-f8fa5e9fb190",
   "metadata": {},
   "outputs": [],
   "source": [
    "show(\"\"\"\n",
    "Assumptions about source probability distributions:\n",
    "* The spectral shape ($E_p, d$) is independent of flux or position\n",
    "* Positions, as reflected in the value of $D$, are independent\n",
    "of the the peak flux __except__ for the threshold.\n",
    "* The threshold is a simple function of $D$ with same shape\n",
    "\n",
    "The exception is important since it biases the projections, \n",
    "especially the $D$ one which I naively use.\n",
    "\n",
    "\"\"\")"
   ]
  },
  {
   "cell_type": "code",
   "execution_count": null,
   "id": "7fd649e7-c630-4b80-b4f2-c826d6cdf031",
   "metadata": {},
   "outputs": [],
   "source": [
    "show(f\"\"\"## ECDF and logN-logS\"\"\")\n",
    "pflux = data[data.subset=='psr'].log_epeak; \n",
    "sns.ecdfplot(data, hue='subset', hue_order='psr msp'.split(), x='log_epeak');"
   ]
  },
  {
   "cell_type": "code",
   "execution_count": null,
   "id": "6d93bf0b-14d9-4ac2-ac7c-dff148343d29",
   "metadata": {},
   "outputs": [],
   "source": [
    "show(\"\"\"---\"\"\");raise Exception('Stop here')"
   ]
  },
  {
   "cell_type": "code",
   "execution_count": null,
   "id": "13d675fa-6af0-41f5-a08a-8b03e7200d77",
   "metadata": {},
   "outputs": [],
   "source": [
    "fig = plt.figure(figsize=(10,4))\n",
    "fig.suptitle('Diffuse vs. latitude')\n",
    "sns.scatterplot(data,ax=fig.subplots(),\n",
    "                x='diffuse',y=np.log10(np.abs(data.glat)).clip(-2,2), s=10\n",
    "               ).set(ylabel=r'$\\log_{10}(|b|)$');"
   ]
  },
  {
   "cell_type": "code",
   "execution_count": null,
   "id": "4be8a6d7-cd31-4689-aea8-454252f77abb",
   "metadata": {},
   "outputs": [],
   "source": [
    "def multi_plot(fig, name, adj=0):#1.25):\n",
    "\n",
    "    dft=data.query(f'association==\"{name}\"')\n",
    "    \n",
    "    fig.suptitle(f'{name} - {len(dft)}', fontsize=20)\n",
    "    axx = fig.subplots(ncols=3, gridspec_kw=dict(wspace=0.15) )\n",
    "    sns.histplot(dft, ax=axx[0], x='diffuse', \n",
    "                 element='step', bins=np.arange(-1,2.4,0.1), kde=True).set(xlim=(-1,2.5))\n",
    "    sns.scatterplot(dft, ax=axx[1], x='diffuse', #y='log_fpeak',\n",
    "                    # y='log_fpeak',#\n",
    "                    y= (dft.log_fpeak-adj*dft.diffuse), s=10,\n",
    "                   ).set(xlim=(-1,2.5),ylim=(-3,5), ylabel='adjusted $F_p$')\n",
    "    sns.scatterplot(dft, ax=axx[2], x='log_epeak', y='d', s=10,\n",
    "                   ).set(xticks=np.arange(-1,1.1,1), yticks=np.arange(0,2.2,0.5))\n",
    "\n",
    "show(f\"\"\"## Check specific distributions\"\"\")\n",
    "names = 'unid psr msp spp bcu fsrq bll'.split()\n",
    "fig = plt.figure(layout=\"constrained\", figsize=(12, 3.*len(names)) )\n",
    "\n",
    "for subfig, name in zip( fig.subfigures(len(names), 1, hspace=0.05,), names ):\n",
    "    multi_plot( subfig, name )\n",
    "\n",
    "show(fig)"
   ]
  },
  {
   "cell_type": "code",
   "execution_count": null,
   "id": "bbafc33d-3c1e-4c76-b3ff-f0d4c2b691ae",
   "metadata": {},
   "outputs": [],
   "source": [
    "show(f\"\"\"## Likelihood fit with known components\"\"\")\n",
    "\n",
    "g = unid.loc[:,[name+'_kde' for name in names]]\n",
    "show(f\"\"\"Head of the known component KDE's for the {(N:=len(g))} unids\"\"\")\n",
    "with pd.option_context('display.precision',3):\n",
    "    show((g.head(2)))\n",
    "show(\"Sums:\")\n",
    "show(pd.Series(g.sum(axis=0).round(), name='sum'))\n",
    "\n",
    "\n",
    "s = pd.Series( dict( (name, subs[name]['factor'])  for name in names   ))\n",
    "show(f\"\"\"Estimated factors from large KDE analysis:\"\"\")\n",
    "with pd.option_context('display.precision',2):\n",
    "    show(pd.Series(s,name='factor'))\n",
    "\n",
    "gs = g * np.array([2.0, 1.15, 1.8])\n",
    "a = lambda  k: g.iloc[:,k] #* \n",
    "b = (1/gs.sum(axis=1) -1) #.sum(axis=1)\n",
    "[sum(a(k)*b) for k in range(3)]\n",
    "\n"
   ]
  },
  {
   "cell_type": "code",
   "execution_count": null,
   "id": "12606d33-ba4e-4dda-9183-2b155a3de204",
   "metadata": {},
   "outputs": [],
   "source": [
    "gs = g * np.array([2.0, 1.15, 1.8])\n",
    "\n",
    "def loglike(alpha):\n",
    "    t = (gs*alpha).sum(axis=1)\n",
    "    return  (np.log(t) -t).sum()\n",
    "    \n",
    "x= np.linspace(0.8,1.2, 30)\n",
    "peak = loglike(np.array( [1, 1, 1]))\n",
    "def w(u, k):\n",
    "    t = np.ones(3)\n",
    "    t[k] = u\n",
    "    return t\n",
    "for k, label, ls in zip(range(3), names, ['--', ':', 'dashdot']):\n",
    "    plt.plot(x, [loglike(w(u,k))-peak for u in x], ls=ls, label=label)\n",
    "                                          \n",
    "plt.gca().set(ylim=(-4, 0.05))\n",
    "plt.legend()\n",
    "show(plt.gcf())"
   ]
  },
  {
   "cell_type": "code",
   "execution_count": null,
   "id": "88cfff02-6503-4401-941e-2c2c7a6f0856",
   "metadata": {},
   "outputs": [],
   "source": [
    "sub_df = dict((name, df) for name,df in data.groupby('subset'))\n",
    "sub_df.keys()"
   ]
  },
  {
   "cell_type": "code",
   "execution_count": null,
   "id": "bed52f2c-25b1-4cec-98ed-e5b33cd84703",
   "metadata": {},
   "outputs": [],
   "source": [
    "from scipy  import optimize\n",
    "g = unid.loc[:,[name+'_kde' for name in names]]\n",
    "def loglike(alpha):\n",
    "    t = (g*alpha).sum(axis=1)\n",
    "    return  (np.log(t) -t).sum()\n",
    "    \n",
    "norms = data.groupby('subset').size()[names].values #np.array([128, 169, 162])\n",
    "x0 = np.array([250,200,300])\n",
    "opt = optimize.minimize(lambda x: -loglike(x/norms), \n",
    "         x0=x0, method='L-BFGS-B')\n",
    "B = opt.hess_inv  # LinearOperator object\n",
    "cov = B * np.identity(B.shape[1]) \n",
    "diag = cov.diagonal()\n",
    "nfit = pd.Series(opt.x.round(1), index=names,name='counts')\n",
    "\n",
    "sigs = pd.Series(np.sqrt(diag).round(1), index=names, name='+/-')\n",
    "show(pd.DataFrame([nfit, sigs]))\n",
    "\n",
    "corr = cov/np.outer(sigs,sigs)\n",
    "with pd.option_context('display.precision', 2):\n",
    "    show(pd.DataFrame(corr, index=names, columns=names))\n",
    "# data.groupby('subset').size()[names]"
   ]
  },
  {
   "cell_type": "code",
   "execution_count": null,
   "id": "f1216cc7-52c1-4c4c-b593-ccb5e96334ac",
   "metadata": {},
   "outputs": [],
   "source": [
    "def dloglike(alpha):\n",
    "    t = (gs*alpha).sum(axis=1)\n",
    "    # t = (gs).sum(axis=1) * alpha\n",
    "    return N - np.sum(t)\n",
    "\n",
    "for k, label, ls in zip(range(3), names, ['--', ':', 'dashdot']):\n",
    "    plt.plot(x, [dloglike(w(u,k)) for u in x], ls=ls, label=label)\n",
    "plt.legend()\n",
    "show(plt.gcf())\n",
    "show( \n",
    "    np.sum(gs.sum(axis=1))/N \n",
    "    )"
   ]
  },
  {
   "cell_type": "code",
   "execution_count": null,
   "id": "2a9f8648-91f0-4929-a59d-b3c9ec6ef9ba",
   "metadata": {},
   "outputs": [],
   "source": [
    "import numdifftools as nd\n",
    "hess = nd.Hessian(loglike)\n",
    "cov = np.linalg.inv(-hess(alpha)); \n",
    "diag = cov.diagonal()\n",
    "sigs = np.sqrt(diag)\n",
    "corr = cov/np.outer(sigs,sigs)\n",
    "\n",
    "with np.printoptions(precision=3):\n",
    "    print(sigs,'\\n', corr)\n"
   ]
  },
  {
   "cell_type": "code",
   "execution_count": null,
   "id": "b032c11b-3b06-436c-9539-376ec998b754",
   "metadata": {},
   "outputs": [],
   "source": [
    "# class KDEfitter:\n",
    "#     \"\"\"### class KDEfitter\n",
    "#     \"\"\"\n",
    "#     def __init__(self, data, *, names, bins, hue='subset', colname='diffuse'):\n",
    "        \n",
    "#         from pylib.kde import Gaussian_kde\n",
    "#         self.names = names\n",
    "#         self.colname = colname\n",
    "#         # make list of 1D KDEE\n",
    "#         self.kdes = [\n",
    "#             Gaussian_kde(data.query(f'{hue}==\"{name}\"'), cols=[colname] )\n",
    "#                                    for name in names\n",
    "#                                     ]\n",
    "#         self.data = data\n",
    "#         self.hist, self.bins = np.histogram(self.data[self.data.unid][self.colname], bins=bins,)\n",
    "#         self.x = ( bins[1:]+bins[:-1] )/2\n",
    "        \n",
    "#     def __repr__(self):\n",
    "#         return f'KDEfittter using kdes\\n {self.kdes}'\n",
    "\n",
    "#     def eval(self, norms):\n",
    "#         \"\"\" Evaluate expected counts\n",
    "#         \"\"\"\n",
    "#         h,bins, x = self.hist, self.bins, self.x\n",
    "#         N = h.sum()\n",
    "#         factor = N*(bins[1]-bins[0]) # assume uniform\n",
    "#         yy = np.array(np.array(\n",
    "#                 [norm*kde.evaluate(x) for (kde,norm) in zip(self.kdes,norms)]\n",
    "#                 )) \n",
    "#         u  = np.sum(yy, axis=0)*factor\n",
    "\n",
    "#         return pd.DataFrame.from_dict(dict(x=x,u=u, h=h))\n",
    "        \n",
    "#     def plot(self, ax, norms):\n",
    "#         # make a twin for separate legend\n",
    "#         axt = ax.twinx()        \n",
    "#         x = np.linspace(*ax.get_xlim(), 52)\n",
    "#         yy = np.array(np.array(\n",
    "#             [norm*kde.evaluate(x) for (kde,norm) in zip(self.kdes,norms)]\n",
    "#             ))                  \n",
    "#         for y, name in zip(yy, self.names):\n",
    "#             axt.plot(x,y, label=name, ls='--', lw=2)\n",
    "#         axt.plot(x, np.sum(yy,axis=0), ls='-', lw=2, label='total')\n",
    "#         # same scale--dendsity\n",
    "#         axt.set(ylim=ax.get_ylim())\n",
    "\n",
    "#         axt.legend(title='KDE overlay',loc='center right',fontsize=12)\n",
    "#         axt.get_yaxis().set_visible(False)\n",
    "# show(KDEfitter.__doc__)\n",
    "# kdef = KDEfitter(data, names=names, bins=None, colname=features)"
   ]
  },
  {
   "cell_type": "code",
   "execution_count": null,
   "id": "a2f18c6f-7b8d-4f6f-897e-ac4949f66535",
   "metadata": {},
   "outputs": [],
   "source": [
    "show(f\"\"\"## Show $D$ dependence in unid $d$ vs. $E_p$ plot \"\"\")\n",
    "fig, ax = plt.subplots(figsize=(10,8))\n",
    "kw = dict(x='log_epeak', y='d',   edgecolor='k',)\n",
    "# sns.scatterplot(unid, ax=ax, **kw, \n",
    "#                  # color='0.8' if dark_mode else '0.2', \n",
    "#                 c = unid.diffuse,\n",
    "#                 legend=False, s=30, cmap='coolwarm' )\n",
    "scat = plt.scatter(x=unid.log_epeak, y=unid.d,\n",
    "                c = unid.diffuse.clip(-0.5,2),s=30, cmap='rainbow' )\n",
    "               \n",
    "ax.set(**epeak_kw(), yticks=np.arange(0,2.1,0.5),ylabel='$d$')\n",
    "plt.colorbar(scat).set_label('$D$')\n",
    "show(fig)"
   ]
  },
  {
   "cell_type": "code",
   "execution_count": null,
   "id": "d8591ee5-7fcb-4bf3-9756-5e52d5fc64bb",
   "metadata": {},
   "outputs": [],
   "source": [
    "show(\"\"\"## Correlation between peak and diffuse fluxes\"\"\")\n",
    "show(f\"\"\" Correlation factor: {(factor:=1.25)}\"\"\") \n",
    "(sns.JointGrid(data, x='diffuse', y=(data.log_fpeak-factor*data.diffuse).clip(-3,2), \n",
    "                 xlim=(-1,2.4), ratio=6, height=8)\n",
    "   .plot_marginals( sns.histplot, element='step', kde=True)\n",
    "   .plot_joint(sns.regplot, ci=95, scatter_kws=dict(s=10, alpha=0.5), \n",
    "               line_kws=dict(color='r',lw=2))\n",
    "   .apply(lambda g: g.ax_joint.set(ylabel=r'Adjusted peak flux: $\\log F_p - 1.25\\ D$', \n",
    "            xlabel='Diffuse correlation $D$',  xticks=np.arange(-1,2.1,1)))\n",
    "   .apply(lambda g: show(g.figure))\n",
    ");\n",
    "# show(plt.gcf())#joint_kws=dict(s=10));\n"
   ]
  },
  {
   "cell_type": "code",
   "execution_count": null,
   "id": "ba3c6db3-c090-4d54-aaf5-e8961e60fe17",
   "metadata": {},
   "outputs": [],
   "source": [
    "show(f\"\"\"## What about \"spp\" sources?\n",
    "From the 4FGL paper:\n",
    ">SPP stands for \"SNR, Pulsar or PWN\" and refers to sources of unknown nature but overlapping with known SNRs or \n",
    "PWNe and thus candidate members of these classes.\n",
    "\"\"\")"
   ]
  },
  {
   "cell_type": "code",
   "execution_count": null,
   "id": "833f7d90-905b-452d-8e8e-1187257d4314",
   "metadata": {},
   "outputs": [],
   "source": [
    "show(f\"\"\"---\n",
    "# End \"\"\")\n",
    "raise Exception('Stop here')"
   ]
  },
  {
   "cell_type": "code",
   "execution_count": null,
   "id": "55a1ca87-1344-40ea-a054-90bd80da5f58",
   "metadata": {
    "jupyter": {
     "source_hidden": true
    }
   },
   "outputs": [],
   "source": [
    "from pylib.kde import Gaussian_kde\n",
    "gdes = dict( (name, Gaussian_kde(sdf, 'diffuse log_epeak d'.split()) )\n",
    "                for name, sdf in data.groupby('subset') \n",
    "           )\n",
    "    \n",
    "\n",
    "gdes"
   ]
  },
  {
   "cell_type": "code",
   "execution_count": null,
   "id": "19f887ea-b681-47f9-ab13-c7e063baba6e",
   "metadata": {
    "collapsed": true,
    "jupyter": {
     "outputs_hidden": true,
     "source_hidden": true
    }
   },
   "outputs": [],
   "source": []
  },
  {
   "cell_type": "code",
   "execution_count": null,
   "id": "4286c991-0d5d-47e4-91cc-26eee940b87b",
   "metadata": {
    "jupyter": {
     "source_hidden": true
    }
   },
   "outputs": [],
   "source": [
    "    \n",
    "def evaluate(self, norms):\n",
    "    \"\"\" Evaluate expected counts\n",
    "    \"\"\"\n",
    "    n, bins, x = self.hist, self.bins, self.x\n",
    "    N = n.sum()\n",
    "    factor = N*(bins[1]-bins[0]) # assume uniform\n",
    "    yy = np.array(\n",
    "            [norm*kde.evaluate(x) for (kde,norm) in zip(self.kdes,norms)]\n",
    "            )\n",
    "    u  = np.sum(yy, axis=0)*factor\n",
    "\n",
    "    df = DataFrame.from_dict(dict(x=x, u=u, n=n), orient='index')\n",
    "    mask =  x >1.4\n",
    "    mask  = x<0\n",
    "   \n",
    "    return np.sum( (n * np.log(u)-u ) * mask)\n",
    "\n",
    "plt.plot((x:=np.arange(0.2,0.5, 0.025)), \n",
    "          [evaluate(self, [0.03, 0.37, x]) for x in x], 'o--');\n",
    "[(x, evaluate(self, [0.05, x, 0.5])) for x in np.arange(0.2,0.5, 0.02)]\n",
    "\n",
    "self = KDEfitter(data, names='blazar psr msp'.split(), bins= np.arange(-1,2.6, 0.1 ))\n",
    "\n",
    "# fig, ax = plt.subplots(figsize=(8,6))\n",
    "\n",
    "# sns.histplot(data[data.subset=='unid'], ax=ax, x='diffuse', hue='in_corner', alpha=0.6, palette='grey red'.split(),\n",
    "#          element='step',  edgecolor='w', bins=self.bins,multiple='stack',stat='density');\n",
    "# ax.set(xlim=(-1,2.5), xticks=np.arange(-1, 2.1, 1),xlabel='$D$')\n",
    "# self.plot(ax=ax, norms = [0.03, 0.36, 0.4])\n",
    "\n",
    "# show(fig)\n",
    "# show(f\"\"\"Procedure:\n",
    "# * Fit the psr component to D>1.4\n",
    "# * fit blazar and msp components with D<0 \"\"\")"
   ]
  },
  {
   "cell_type": "code",
   "execution_count": null,
   "id": "777e3e11-ad9f-47d2-b946-e484c41f2615",
   "metadata": {
    "jupyter": {
     "source_hidden": true
    }
   },
   "outputs": [],
   "source": [
    "# # fig, ax = plt.subplots(figsize=(8,6))\n",
    "# df = self.eval((norms:= [0.05, 0.35, 0.3]))\n",
    "# # sns.scatterplot(df, ax=ax, x='x', y='u', markers=['+'])\n",
    "# # sns.scatterplot(df, ax=ax, x='x', y='h')\n",
    "# # show(fig)\n",
    "# loglike = lambda s: s.h * np.log(s.u) - s.u\n",
    "# (np.sum(df.apply(loglike, axis=1)),\n",
    "# evaluate(self, norms),)\n",
    "# 1.0 * False\n"
   ]
  },
  {
   "cell_type": "code",
   "execution_count": null,
   "id": "b99ef1ef-262f-4bf6-9084-b12832f3f7ef",
   "metadata": {
    "jupyter": {
     "source_hidden": true
    },
    "scrolled": true
   },
   "outputs": [],
   "source": [
    "dr4 = Fermi4FGL('dr4')\n",
    "dr4.loc[final.index]"
   ]
  },
  {
   "cell_type": "code",
   "execution_count": null,
   "id": "b95b846e-cac4-4d56-9d58-812fd53ed13e",
   "metadata": {
    "jupyter": {
     "source_hidden": true
    },
    "scrolled": true
   },
   "outputs": [],
   "source": [
    "pd.set_option('display.precision',3)\n",
    "show(final)\n",
    "show(f'{len(final)} sources')\n"
   ]
  },
  {
   "cell_type": "code",
   "execution_count": null,
   "id": "3f1fda83-4111-4417-a16e-3e1fc207ddcc",
   "metadata": {
    "jupyter": {
     "source_hidden": true
    }
   },
   "outputs": [],
   "source": [
    "raise Exception(\"Stop here\")"
   ]
  },
  {
   "cell_type": "code",
   "execution_count": null,
   "id": "383fbeff-65cf-4d58-b1a5-bb65c2be6bf9",
   "metadata": {
    "jupyter": {
     "source_hidden": true
    }
   },
   "outputs": [],
   "source": [
    "show(f\"\"\"## Look at the 3PC table 5\"\"\")\n",
    "t5=\"\"\"\\\n",
    "   J0300.4+3450\n",
    "   J0924.1-5202\n",
    "   J1054.0-5938\n",
    "   J1147.7-6618\n",
    "   J1155.6-6245\n",
    "   J1302.9-6349\n",
    "   J1306.8-4035\n",
    "   J1331.7-0343\n",
    "   J1431.5-6627\n",
    "   J1440.2-5505\n",
    "   J1456.4-5923\n",
    "   J1534.7-5842\n",
    "   J1545.2-4553\n",
    "   J1550.8-5424\n",
    "   J1604.5-4441\n",
    "   J1616.6-5009\n",
    "   J1631.7-4826\n",
    "   J1731.7-1850\n",
    "   J1740.6-3430\n",
    "   J1743.0-3201\n",
    "   J1743.9-3539\n",
    "   J1801.6-1418\n",
    "   J1807.1+2822\n",
    "   J1811.5-1925\n",
    "   J1812.2-0856\n",
    "   J1838.4-0545\n",
    "   J1850.3-0031\n",
    "   J1852.6+0203\n",
    "   J1851.8-0007\n",
    "   J1855.2+0456\n",
    "   J1857.9+0313\n",
    "   J1900.8+0118\n",
    "   J1904.7+0615\n",
    "   J1906.2+0631\n",
    "   J1906.2+0631\n",
    "   J1908.7+0812\n",
    "   J1911.3+1055\n",
    "   J1915.3+1149\n",
    "   J1916.3+1108\n",
    "   J1929.0+1729\n",
    "   J1929.0+1729\n",
    "   J1930.5+1853\n",
    "   J1950.6+2416\n",
    "   J1957.3+2517\n",
    "   J2015.3+0758\n",
    "   J2052.3+4437\n",
    "   J2052.3+4437\n",
    "   J2055.8+1545\n",
    "   J2325.9+6206\"\"\".split('\\n')[1:]\n",
    "names = np.array(['4FGL '+line.split()[0] for line in t5]); names\n",
    "missing = ~np.isin(names, data.index); \n",
    "sum(missing), names[missing]"
   ]
  },
  {
   "cell_type": "code",
   "execution_count": null,
   "id": "c4d7af3e-f096-4dfe-9218-113ca99a3300",
   "metadata": {
    "jupyter": {
     "source_hidden": true
    }
   },
   "outputs": [],
   "source": [
    "dr4=Fermi4FGL()\n",
    "dr4.loc[names[missing]]"
   ]
  },
  {
   "cell_type": "code",
   "execution_count": null,
   "id": "fb6671a8-0703-4dd2-b186-a770410de510",
   "metadata": {
    "jupyter": {
     "source_hidden": true
    },
    "scrolled": true
   },
   "outputs": [],
   "source": [
    "dfi['d'] = data.d\n",
    "dfi['d_unc'] = data.d_unc\n",
    "\n",
    "from pylib.catalogs import UWcat\n",
    "uwcat = UWcat('uw1410'); uwcat.head()\n",
    "\n",
    "# uwx.pars.apply(lambda p: eval(p.split()[2])).values\n",
    "# len(uwx)\n",
    "\n",
    "# dfi['uw_name uw_pos uw_r95 d d_unc '.split()].sort_index()"
   ]
  },
  {
   "cell_type": "code",
   "execution_count": null,
   "id": "8b17ddba-89b7-4cd1-b2a2-4f2b80400cf9",
   "metadata": {
    "jupyter": {
     "source_hidden": true
    }
   },
   "outputs": [],
   "source": [
    "fig, ax = plt.subplots(figsize=(6,6))\n",
    "ax = sns.scatterplot(ax=ax, x=final.r95, y=dfi.uw_r95)\n",
    "ax.set(xlim=(0,.2,),ylim=(0,0.2), xticks=np.arange(0,0.21,0.05),yticks=np.arange(0,0.21,0.05))\n",
    "ax.plot((0,.2),(0,.2), '--'); "
   ]
  },
  {
   "cell_type": "code",
   "execution_count": null,
   "id": "fec49ad9-dcad-4c22-9350-134e98f0d4c6",
   "metadata": {
    "jupyter": {
     "source_hidden": true
    },
    "scrolled": true
   },
   "outputs": [],
   "source": [
    "show(\"\"\"---\"\"\")\n",
    "kent=\"\"\"\\\n",
    "4FGL J0009.2+1745\n",
    "4FGL J0144.3+5959\n",
    "4FGL J0202.4+2943\n",
    "4FGL J0418.9+6636\n",
    "4FGL J0609.0+2136\n",
    "4FGL J0904.7-4908\n",
    "4FGL J1155.6-6245\n",
    "4FGL J1205.1-5951\n",
    "4FGL J1415.9-1504\n",
    "4FGL J1418.7-6110\n",
    "4FGL J1619.8-6314\n",
    "4FGL J1653.2-4349\n",
    "4FGL J1709.4-2127\n",
    "4FGL J1711.4-2526\n",
    "4FGL J1730.1-3422\n",
    "4FGL J1745.6-3145\n",
    "4FGL J1902.5+0654\n",
    "4FGL J1919.4+1313\n",
    "4FGL J1924.8-1035\"\"\".split('\\n')\n",
    "show(f\"\"\"## Kent's \"dummy\" list of {len(kent)}\"\"\")\n",
    "show(f\"\"\"In data, len {len(data)}: {sum(np.isin(kent,data))} are in.\"\"\")\n",
    "# sns.scatterplot(data.loc[kent], x='Ep', y='d');"
   ]
  },
  {
   "cell_type": "code",
   "execution_count": null,
   "id": "a3fc4168-32d3-4dca-8292-b77738369cf8",
   "metadata": {},
   "outputs": [],
   "source": [
    "table3=\"\"\"\\\n",
    "4FGL J0159.0+3313 bll\n",
    "4FGL J0409.2+2542 bll\n",
    "4FGL J0800.9+0733 bll\n",
    "4FGL J0838.5+4013 bll\n",
    "4FGL J0914.5+6845 bll\n",
    "4FGL J1557.2+3822 bll\n",
    "4FGL J0037.2-2653 blz\n",
    "4FGL J0137.3-3239 blz\n",
    "4FGL J0406.2+0639 blz\n",
    "4FGL J0723.1-3048 blz\n",
    "4FGL J0737.4+6535 blz\n",
    "4FGL J0755.9-0515 blz\n",
    "4FGL J0906.1-1011 blz\n",
    "4FGL J0934.5+7223 blz\n",
    "4FGL J1047.2+6740 blz\n",
    "4FGL J1049.8+2741 blz\n",
    "4FGL J1111.4+0137 blz\n",
    "4FGL J1114.6+1225 blz\n",
    "4FGL J1122.0-0231 blz\n",
    "4FGL J1224.6+7011 blz\n",
    "4FGL J1256.8+5329 blz\n",
    "4FGL J1623.7-2315 blz\n",
    "4FGL J1648.7+4834 blz\n",
    "4FGL J1818.5+2533 blz\n",
    "4FGL J1856.1-1222 blz\n",
    "4FGL J2326.9-4130 blz\n",
    "4FGL J0204.7+6656  psr\n",
    "4FGL J0533.6+5945  psr\n",
    "4FGL J0752.0-2931  psr\n",
    "4FGL J0752.0-2931  psr\n",
    "4FGL J0754.9-3953  psr\n",
    "4FGL J1203.5-1748  psr\n",
    "4FGL J1203.5-1748  psr\n",
    "4FGL J1356.6+0234  psr\n",
    "4FGL J1407.7-3017  psr\n",
    "4FGL J1407.7-3017  psr\n",
    "4FGL J1530.0-1522  psr\n",
    "4FGL J1711.0-3002  psr\n",
    "4FGL J1735.3-0717  psr\n",
    "4FGL J1739.3-2531  psr\n",
    "4FGL J1747.0-3505  psr\n",
    "4FGL J1805.7+3401  psr\n",
    "4FGL J1813.5+2819  psr\n",
    "4FGL J1908.7+0812  psr\n",
    "4FGL J1940.2-2511  psr\n",
    "4FGL J2026.3+1431  psr\n",
    "4FGL J2108.0+5155  psr\n",
    "4FGL J2108.0+5155  psr\n",
    "4FGL J2114.3+5023  psr\n",
    "4FGL J2117.0+1344  psr\n",
    "4FGL J2117.0+1344  psr\n",
    "4FGL J2250.5+3305  psr\"\"\".split('\\n') #;to_check\n",
    "t3 = {}\n",
    "for line in table3:\n",
    "    t = line.split()\n",
    "    name = t[0]+' '+t[1]\n",
    "    t3[name] = t[-1]\n",
    "t3s = pd.Series(t3, name='msc_id'); len(t3)"
   ]
  },
  {
   "cell_type": "code",
   "execution_count": null,
   "id": "8dd92e30-cf57-4b9b-8cb5-29d607a64db7",
   "metadata": {},
   "outputs": [],
   "source": [
    "t = np.isin(t3s.index, self.df.index, ); len(t), sum(~t), t3s.index[~t] #len(to_check), np.array(to_check)[~t]"
   ]
  },
  {
   "cell_type": "code",
   "execution_count": null,
   "id": "7bf1c4bc-6dfd-4f30-b470-b6837793f64b",
   "metadata": {},
   "outputs": [],
   "source": [
    "# show(f\"\"\"## Large KDE analysis\n",
    "# Idea: Estimate fractional component of the known types based on number of \n",
    "# high-kde values, and individual distsribution.\"\"\")\n",
    "\n",
    "\n",
    "# subs = dict( (name, dict(data=sdf)) for name,sdf in data.groupby('subset'))\n",
    "# show_fig(kde_analysis, data, subs, class_names,\n",
    "#          thresh_dict=dict(psr=2.0, msp= 1.5,blazar= 1) )"
   ]
  },
  {
   "cell_type": "code",
   "execution_count": null,
   "id": "cd8949ca-f141-4c39-a4fe-ff94f7cb1d87",
   "metadata": {},
   "outputs": [],
   "source": [
    "show(f\"\"\"## KDE edge effect\n",
    "Look at PSR and diffuse\n",
    "\"\"\")\n",
    "psr= data[data.subset=='psr']; \n",
    "from pylib.kde import Gaussian_kde\n",
    "fig = plt.figure(figsize=(8,5))\n",
    "ax = fig.subplots()\n",
    "sns.histplot(psr.diffuse, ax=ax, element='step', bins=25, alpha=0.3, \n",
    "             label='PSR data, KDE', kde=True);\n",
    "psr_kde = Gaussian_kde(psr, ['diffuse'])\n",
    "binsize=0.1\n",
    "factor = len(psr)*binsize\n",
    "def pfun(kde, x):\n",
    "    return (kde.evaluate(x) + kde.evaluate(4-x))\n",
    "ax.plot((x:=np.arange(-0.5,2.1,0.1)),  pfun(psr_kde,x)*factor, '-',\n",
    "       label='boundary reflection', color='red')\n",
    "\n",
    "fpcut=30\n",
    "psrx = psr[psr.Fp>fpcut]\n",
    "psr_kdex = Gaussian_kde(psrx, ['diffuse'])\n",
    "ax.plot((x:=np.arange(-0.5,2.1,0.1)),  pfun(psr_kdex,x)*factor,\n",
    "         '-', label=f'$F_p>{fpcut}$', color='yellow')\n",
    "ax.legend(loc='upper left')\n",
    "show(fig)"
   ]
  }
 ],
 "metadata": {
  "kernelspec": {
   "display_name": "Python 3 (ipykernel)",
   "language": "python",
   "name": "python3"
  },
  "language_info": {
   "codemirror_mode": {
    "name": "ipython",
    "version": 3
   },
   "file_extension": ".py",
   "mimetype": "text/x-python",
   "name": "python",
   "nbconvert_exporter": "python",
   "pygments_lexer": "ipython3",
   "version": "3.10.10"
  }
 },
 "nbformat": 4,
 "nbformat_minor": 5
}
