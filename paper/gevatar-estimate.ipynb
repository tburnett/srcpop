{
 "cells": [
  {
   "cell_type": "code",
   "execution_count": 1,
   "id": "3532398c-e6f1-47b5-b0a4-c7fbb9948c0e",
   "metadata": {},
   "outputs": [
    {
     "data": {
      "text/markdown": [
       "# Gevatar population estimate"
      ],
      "text/plain": [
       "<pylib.ipynb_docgen.doc_formatter.<locals>.MimeBundleObject at 0x7f8310663fd0>"
      ]
     },
     "metadata": {},
     "output_type": "display_data"
    },
    {
     "data": {
      "text/markdown": [
       "<h5 style=\"text-align:right; margin-right:15px\"> 2024-02-29 12:50</h5>"
      ],
      "text/plain": [
       "<pylib.ipynb_docgen.doc_formatter.<locals>.MimeBundleObject at 0x7f82c82b8550>"
      ]
     },
     "metadata": {},
     "output_type": "display_data"
    },
    {
     "data": {
      "text/markdown": [
       "Not applying ML, so no class fits to generate prediction model. Instead we compute KDE probability density distributions\n",
       "for the ML targets, which we then apply to the unid and bcu associations."
      ],
      "text/plain": [
       "<pylib.ipynb_docgen.doc_formatter.<locals>.MimeBundleObject at 0x7f82c82b85e0>"
      ]
     },
     "metadata": {},
     "output_type": "display_data"
    },
    {
     "data": {
      "text/html": [
       "<details open class=\"nbdoc-description\" >  <summary> Setup: </summary>  <div style=\"margin-left: 25px;\"><pre>Loaded Fermi 4FGL gll_psc_dr4.fit: 7195 entries<br>Remove 382 without valid r95 or variability or significance&gt;4<br>            -&gt; 6813 remain<br>Loaded Fermi 4FGL gll_psc_dr3.fit: 6659 entries<br>Apply DR3 LP values for all but 542 sources.<br></pre></div> </details>"
      ],
      "text/plain": [
       "<pylib.ipynb_docgen.doc_formatter.<locals>.MimeBundleObject at 0x7f82c7886a10>"
      ]
     },
     "metadata": {},
     "output_type": "display_data"
    },
    {
     "data": {
      "text/markdown": [
       "### Data selection cut: \"0.15<Ep<4 & d>0.2 & variability<25\""
      ],
      "text/plain": [
       "<pylib.ipynb_docgen.doc_formatter.<locals>.MimeBundleObject at 0x7f82c82b87c0>"
      ]
     },
     "metadata": {},
     "output_type": "display_data"
    },
    {
     "data": {
      "text/html": [
       "<div style=\"margin-left: 25px\"><table border=\"1\" class=\"dataframe\">\n",
       "  <thead>\n",
       "    <tr style=\"text-align: right;\">\n",
       "      <th>subset</th>\n",
       "      <th>blazar</th>\n",
       "      <th>psr</th>\n",
       "      <th>msp</th>\n",
       "      <th>unid</th>\n",
       "    </tr>\n",
       "  </thead>\n",
       "  <tbody>\n",
       "    <tr>\n",
       "      <th>total</th>\n",
       "      <td>2283</td>\n",
       "      <td>140</td>\n",
       "      <td>176</td>\n",
       "      <td>2349</td>\n",
       "    </tr>\n",
       "    <tr>\n",
       "      <th>selected</th>\n",
       "      <td>162</td>\n",
       "      <td>128</td>\n",
       "      <td>169</td>\n",
       "      <td>1389</td>\n",
       "    </tr>\n",
       "    <tr>\n",
       "      <th>%</th>\n",
       "      <td>7</td>\n",
       "      <td>91</td>\n",
       "      <td>96</td>\n",
       "      <td>59</td>\n",
       "    </tr>\n",
       "  </tbody>\n",
       "</table></div>"
      ],
      "text/plain": [
       "<pylib.ipynb_docgen.doc_formatter.<locals>.MimeBundleObject at 0x7f82c7887370>"
      ]
     },
     "metadata": {},
     "output_type": "display_data"
    },
    {
     "data": {
      "text/markdown": [
       "## Create KDE functions instead of ML training\n",
       "* Classes: psr, msp, blazar\n",
       "* Features: d, log_epeak, diffuse "
      ],
      "text/plain": [
       "<pylib.ipynb_docgen.doc_formatter.<locals>.MimeBundleObject at 0x7f82c6907f70>"
      ]
     },
     "metadata": {},
     "output_type": "display_data"
    }
   ],
   "source": [
    "%run pylib/ml_fit show dark  kde title \"Gevatar population estimate\"\n",
    "data = dfc.copy()\n",
    "class_names = list(self.targets.keys())\n",
    "unid = data[data.subset=='unid']\n",
    "kde_features='d log_epeak diffuse'.split()\n",
    "kde_bounds = dict(\n",
    "              d=(0.2,2.0),\n",
    "              log_epeak=np.log10([0.15, 4]),\n",
    "                diffuse=(None, 2), )"
   ]
  },
  {
   "cell_type": "code",
   "execution_count": 3,
   "id": "df1aac20-d53d-45ab-87ef-3d95cf8a404c",
   "metadata": {},
   "outputs": [
    {
     "data": {
      "text/markdown": [
       "class Featues:\n",
       "Manage binning properties in the features space"
      ],
      "text/plain": [
       "<pylib.ipynb_docgen.doc_formatter.<locals>.MimeBundleObject at 0x7f82c783bd90>"
      ]
     },
     "metadata": {},
     "output_type": "display_data"
    }
   ],
   "source": [
    "class Features(dict):\n",
    "    \"\"\" class Featues:\n",
    "        Manage binning properties in the features space\n",
    "    \"\"\"\n",
    "    def __init__(self, names, limits, N=25):\n",
    "        self['names'] = names\n",
    "        self['limits'] = dict((name, np.array(lim).round(3)) for name,lim in zip(names, limits))\n",
    "        self['bins'] = bins =dict( (var, np.linspace(*self['limits'][var],num=N+1 ).round(3)) for var in names)\n",
    "        cvals = lambda b: (b[1:]+b[:-1])/2\n",
    "        self['centers'] = dict((nm, cvals(v).round(3)) for nm,v in bins.items()) \n",
    "        delta = lambda name: self['limits'][name][1]-self['limits'][name][0]\n",
    "        self['size'] = dict((name, delta(name)) for name in kde_features)\n",
    "        self['N']=N\n",
    "        self['volume']=  np.prod([lim[1]-lim[0] for lim in limits])\n",
    "        self.__dict__.update(self)\n",
    "\n",
    "    def __repr__(self):\n",
    "        return 'class Features:\\n'+'\\n'.join( [f'{key}: {value}' for key, value in self.items()])\n",
    "        \n",
    "    def meshgrid(self):\n",
    "        \"\"\" Return a 3-D meshgrid as a DataFrame\n",
    "        \"\"\"\n",
    "        return pd.DataFrame(dict( (name, mg.flatten()) for name,mg in\n",
    "                       zip(self.names, np.meshgrid(*self.centers.values()))))\n",
    "show(Features.__doc__)           "
   ]
  },
  {
   "cell_type": "code",
   "execution_count": 4,
   "id": "230b429c-da18-49ec-9d2d-702084bb809b",
   "metadata": {
    "jupyter": {
     "source_hidden": true
    }
   },
   "outputs": [
    {
     "data": {
      "text/markdown": [
       "## Evaluate KDE's for components & unid with bounded=True"
      ],
      "text/plain": [
       "<pylib.ipynb_docgen.doc_formatter.<locals>.MimeBundleObject at 0x7f8338257ac0>"
      ]
     },
     "metadata": {},
     "output_type": "display_data"
    }
   ],
   "source": [
    "show(f\"\"\"## Evaluate KDE's for components & unid with bounded={(bounded:=True)}\"\"\")\n",
    "from pylib.kde import ComponentProb\n",
    "kdes = {}\n",
    "for name, df in zip(class_names+['unid'],\n",
    "                    [data[data.subset==s] for s in  class_names] + [unid],\n",
    "                   ):\n",
    "    old= data[name+'_kde']\n",
    "    if bounded:\n",
    "        kdes[name]= gk = ComponentProb(df, kde_features, kde_bounds)\n",
    "        new= gk(data)\n",
    "        data[name+'_kde'] = new\n",
    "    else:\n",
    "        kdes[name]= gk = ComponentProb(df, kde_features,)\n",
    "        new= gk(data)\n",
    "        print(name, np.all(old==new))\n",
    "\n"
   ]
  },
  {
   "cell_type": "code",
   "execution_count": 41,
   "id": "921d20e3-a214-49b2-8379-8c5e2c30008d",
   "metadata": {},
   "outputs": [
    {
     "data": {
      "text/markdown": [
       "### Evalute Bounded KDE on a grid, N=25"
      ],
      "text/plain": [
       "<pylib.ipynb_docgen.doc_formatter.<locals>.MimeBundleObject at 0x7f82bcaa3130>"
      ]
     },
     "metadata": {},
     "output_type": "display_data"
    },
    {
     "data": {
      "text/markdown": [
       "* Evaluate KDE on the grid, measure integrals, renormalize"
      ],
      "text/plain": [
       "<pylib.ipynb_docgen.doc_formatter.<locals>.MimeBundleObject at 0x7f82bf859690>"
      ]
     },
     "metadata": {},
     "output_type": "display_data"
    },
    {
     "data": {
      "text/html": [
       "<div style=\"margin-left: 25px\"><table border=\"1\" class=\"dataframe\">\n",
       "  <thead>\n",
       "    <tr style=\"text-align: right;\">\n",
       "      <th></th>\n",
       "      <th>psr_kde</th>\n",
       "      <th>msp_kde</th>\n",
       "      <th>blazar_kde</th>\n",
       "      <th>unid_kde</th>\n",
       "    </tr>\n",
       "  </thead>\n",
       "  <tbody>\n",
       "    <tr>\n",
       "      <th>integral</th>\n",
       "      <td>1.6117</td>\n",
       "      <td>1.4697</td>\n",
       "      <td>0.99</td>\n",
       "      <td>1.4718</td>\n",
       "    </tr>\n",
       "  </tbody>\n",
       "</table></div>"
      ],
      "text/plain": [
       "<pylib.ipynb_docgen.doc_formatter.<locals>.MimeBundleObject at 0x7f82bcaa31c0>"
      ]
     },
     "metadata": {},
     "output_type": "display_data"
    }
   ],
   "source": [
    "show(f\"\"\"### Evalute {'Bounded' if bounded else ''} KDE on a grid, N={(N:=25)}\"\"\")\n",
    "# make dicts with limits, bins, bin centers\n",
    "     \n",
    "ft = Features(kde_features, [[0.2,2], np.log10([0.15,4]).round(3), [-0.4,2]], N=N)\n",
    "grid = ft.meshgrid()\n",
    "         \n",
    "\n",
    "show(\"\"\"* Evaluate KDE on the grid, measure integrals, renormalize\"\"\")\n",
    "for comp in class_names+['unid']:\n",
    "    grid[comp+'_kde'] = kdes[comp](grid)\n",
    "# check integrals\n",
    "norms = grid.iloc[:,-4:].sum() * ft.volume/ft.N**3\n",
    "with pd.option_context('display.precision',4):\n",
    "    show(pd.Series(norms, name='integral'))\n",
    "grid.iloc[:, -3:] /= norms"
   ]
  },
  {
   "cell_type": "code",
   "execution_count": 48,
   "id": "f7f57545-1f0c-407c-a43d-01d3de6bf1ac",
   "metadata": {
    "scrolled": true
   },
   "outputs": [
    {
     "data": {
      "text/plain": [
       "(d             5.994828\n",
       " log_epeak    -0.604979\n",
       " diffuse       4.360206\n",
       " psr_kde       1.611694\n",
       " msp_kde       1.000000\n",
       " blazar_kde    1.000000\n",
       " unid_kde      1.000000\n",
       " dtype: float64,\n",
       "        d  log_epeak  diffuse   psr_kde   msp_kde  blazar_kde  unid_kde\n",
       " 0  0.238     -0.794    -0.35  0.018143  0.000067    0.510495  0.038608\n",
       " 1  0.238     -0.794    -0.25  0.019979  0.000156    0.487170  0.048142\n",
       " 2  0.238     -0.794    -0.15  0.019138  0.000302    0.458072  0.056871\n",
       " 3  0.238     -0.794    -0.05  0.016595  0.000486    0.435652  0.065071\n",
       " 4  0.238     -0.794     0.05  0.014620  0.000652    0.412323  0.074913)"
      ]
     },
     "execution_count": 48,
     "metadata": {},
     "output_type": "execute_result"
    }
   ],
   "source": [
    "(grid * ft.volume/ft.N**3).sum(), grid.head()"
   ]
  },
  {
   "cell_type": "code",
   "execution_count": 59,
   "id": "319c6714-6126-4975-9810-c245f1e3586c",
   "metadata": {},
   "outputs": [
    {
     "data": {
      "text/plain": [
       "(                  d     log_epeak       diffuse       psr_kde       msp_kde  \\\n",
       " count  13824.000000  13824.000000  13824.000000  1.382400e+04  1.382400e+04   \n",
       " mean       1.099917     -0.111000      0.800000  2.957097e-01  1.834776e-01   \n",
       " std        0.519195      0.411271      0.692244  4.327618e-01  2.963288e-01   \n",
       " min        0.238000     -0.794000     -0.350000  1.530346e-08  1.415860e-09   \n",
       " 25%        0.669000     -0.452750      0.225000  3.435551e-02  2.197716e-03   \n",
       " 50%        1.100000     -0.111000      0.800000  1.209548e-01  5.407373e-02   \n",
       " 75%        1.531750      0.230750      1.375000  3.605364e-01  2.243412e-01   \n",
       " max        1.962000      0.572000      1.950000  2.765917e+00  1.858721e+00   \n",
       " \n",
       "          blazar_kde      unid_kde  \n",
       " count  1.382400e+04  13824.000000  \n",
       " mean   1.834776e-01      0.183478  \n",
       " std    3.438277e-01      0.150937  \n",
       " min    6.593233e-16      0.000017  \n",
       " 25%    1.343728e-04      0.066721  \n",
       " 50%    2.712093e-02      0.146600  \n",
       " 75%    1.965434e-01      0.260714  \n",
       " max    2.379001e+00      0.780708  ,\n",
       " 15625)"
      ]
     },
     "execution_count": 59,
     "metadata": {},
     "output_type": "execute_result"
    }
   ],
   "source": [
    "grid.describe(), N**3"
   ]
  },
  {
   "cell_type": "code",
   "execution_count": 57,
   "id": "327ab446-f3f2-451e-a981-b21852f67a36",
   "metadata": {},
   "outputs": [
    {
     "data": {
      "image/png": "[encoded data removed]",
      "text/plain": [
       "<Figure size 360x216 with 1 Axes>"
      ]
     },
     "metadata": {},
     "output_type": "display_data"
    },
    {
     "data": {
      "image/png": "[encoded data removed]",
      "text/plain": [
       "<Figure size 360x216 with 1 Axes>"
      ]
     },
     "metadata": {},
     "output_type": "display_data"
    },
    {
     "data": {
      "image/png": "[encoded data removed]",
      "text/plain": [
       "<Figure size 360x216 with 1 Axes>"
      ]
     },
     "metadata": {},
     "output_type": "display_data"
    }
   ],
   "source": [
    "for var in kde_features:\n",
    "    grid.hist(var, bins=ft.bins[var])"
   ]
  },
  {
   "cell_type": "code",
   "execution_count": 51,
   "id": "3bb85afd-e0cf-4a52-80e1-8e87663fe8f1",
   "metadata": {},
   "outputs": [
    {
     "data": {
      "text/html": [
       "<div style=\"margin-left: 10px\"><a id=\"Figure_None\"/><figure style=\"margin-left: 10px\">   <img src=\"data:image/png;base64,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\"  > <br> </figure></div>"
      ],
      "text/plain": [
       "<pylib.ipynb_docgen.doc_formatter.<locals>.MimeBundleObject at 0x7f82bd23bd30>"
      ]
     },
     "metadata": {},
     "output_type": "display_data"
    }
   ],
   "source": [
    "fig = plt.figure(figsize=(12,4))\n",
    "axx = fig.subplots(ncols=3, sharey=True )\n",
    "fig.suptitle('KDE projections')\n",
    "\n",
    "# loop ove featues\n",
    "for var_name,ax in zip(kde_features,axx.flat): \n",
    "    var_bins=ft.bins[var_name]\n",
    "\n",
    "    # loop over classes\n",
    "    for cls, color in zip(class_names+['unid'], self.palette+['w']):\n",
    "        kde_name = cls+'_kde'\n",
    "        h, _ = np.histogram(grid[var_name],  bins=var_bins, \n",
    "                           #weights=grid[kde_name]#*ft.size[var_name]/N**2,\n",
    "                           )\n",
    "        # h *= ft.size[var_name]/ft.N**3 /norms[kde_name\n",
    "        # h *= (ft.volume/ft.N**2)/ ft.size[var_name]\n",
    "        \n",
    "        # print(var_name,cls, ft.size[var_name],  (np.sum(h)).round(4))\n",
    "        ax.plot(ft.centers[var_name], h*ft.size[var_name], label=cls, color=color,\n",
    "                ls='--' if cls=='unid' else '-');\n",
    "    ax.set(xlabel=var_name)#, ylim=(0,None))    \n",
    "    ax.legend(fontsize='small');\n",
    "# axx[0].set(yticks=np.arange(0, 50, 10));\n",
    "show(fig)"
   ]
  },
  {
   "cell_type": "code",
   "execution_count": 27,
   "id": "4eb2b3fc-29ff-4e39-a3af-1baa44cb34ad",
   "metadata": {},
   "outputs": [
    {
     "data": {
      "text/html": [
       "<div style=\"margin-left: 10px\"><a id=\"Figure_None\"/><figure style=\"margin-left: 10px\">   <img src=\"data:image/png;base64,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\"  > <br> </figure></div>"
      ],
      "text/plain": [
       "<pylib.ipynb_docgen.doc_formatter.<locals>.MimeBundleObject at 0x7f82bf736140>"
      ]
     },
     "metadata": {},
     "output_type": "display_data"
    }
   ],
   "source": [
    "hkw=dict(histtype='step', density=True)\n",
    "\n",
    "def subset_hists(cls, fig):\n",
    "    fig.suptitle(cls)\n",
    "    hkw = dict(histtype='step', density=True)\n",
    "    axx = fig.subplots(ncols=3)\n",
    "    df = data[data.subset==cls] if cls !='unid' else unid\n",
    "    for ax, var_name in zip(axx, kde_features):\n",
    "        ax.hist(df[var_name], bins=ft.bins[var_name], **hkw)\n",
    "        ax.set(xlabel=var_name, xlim=ft.limits[var_name], )#yticks=[])\n",
    "        h, _ = np.histogram(grid[var_name], bins=ft.bins[var_name], #weights=grid[cls+'_kde']\n",
    "                           ); \n",
    "        ax.plot(ft.centers[var_name], h/norms[kde_name]/ft.size[var_name]/N**3) #label=cls, color=color,\n",
    "\n",
    "\n",
    "        \n",
    "fig = plt.figure(layout=\"constrained\",figsize=(12,15))\n",
    "fig.suptitle('Data')\n",
    "\n",
    "data_names = class_names+['unid']\n",
    "subfigs = fig.subfigures(nrows=len(data_names), hspace=0.1)\n",
    "\n",
    "for cls, subfig in zip(data_names, subfigs):\n",
    "    subset_hists(cls, subfig)\n",
    "show(fig)"
   ]
  },
  {
   "cell_type": "code",
   "execution_count": null,
   "id": "2d4f9865-6bfe-46cc-8e3f-13b0dcef4575",
   "metadata": {},
   "outputs": [],
   "source": [
    "\n",
    "# sns.histplot(data, hue='subset',hue_order=class_names, bins=bins['d'], x='d',\n",
    "#              element='step',stat='density', palette=self.palette);\n",
    "sns.histplot(unid, bins=bins['d'], x='d', color='none', element='step',stat='density',edgecolor='w');"
   ]
  },
  {
   "cell_type": "code",
   "execution_count": null,
   "id": "e9ef0550-37f3-4a8b-acc7-36afeef53ebc",
   "metadata": {},
   "outputs": [],
   "source": [
    "# from pylib.kde import ComponentProb\n",
    "\n",
    "\n",
    "# def multi_study(features, bounds):\n",
    "\n",
    "#     def study(fig, var, bounds):\n",
    "#         for df, ax in zip(\n",
    "#                 [data[data.subset==s] for s in 'psr msp blazar'.split()] + [unid], \n",
    "#                  fig.subplots(nrows=4, sharex=True),\n",
    "#                  ):\n",
    "#             gk = ComponentProb(df, features, bounds)\n",
    "#             p = gk(df)\n",
    "#             sns.scatterplot(df, ax=ax, x=var, y=p,s=10)\n",
    "\n",
    "#         return fig\n",
    "        \n",
    "#     fig = plt.figure(layout=\"constrained\", figsize=(12, 8 ))\n",
    "     \n",
    "#     for subfig, var in zip(fig.subfigures(ncols=3), features):\n",
    "#         study(subfig, var, bounds)\n",
    "#     return fig\n",
    "\n",
    "# show_fig(multi_study, kde_features, kde_bounds)        "
   ]
  },
  {
   "cell_type": "code",
   "execution_count": null,
   "id": "9cb2a7e9-538a-4ea8-ae96-d91eb18b53c0",
   "metadata": {},
   "outputs": [],
   "source": [
    "def kde_analysis(data, subs, names, thresh_dict):\n",
    "    \"\"\"KDE distributions. An array of plots where the horizontal axis for each column\n",
    "    is the KDE distribution for one of the known components. The top row is a scatter plot with respect to\n",
    "    the unid KDE, in which the points are colored for each of the component KDE values exceding a threshold.\n",
    "    THe second row is the cumuative distribution of the unid KDE. The lower two rows reflect properties of the \n",
    "    component KDE: the histogram and its cumulative distribution.\n",
    "    The vertical dashed lines reflect thesholds used to make estimates of the component's content.  \n",
    "    \"\"\"\n",
    "    fig, axx = plt.subplots(ncols=len(names), nrows=4, figsize=(15,10), \n",
    "                            height_ratios=(4,2,2,2),\n",
    "                            sharey='row', sharex='col')\n",
    "    \n",
    "    # loop over columns\n",
    "    for col,name in enumerate(names):\n",
    "        x = f'{name}_kde'\n",
    "        thresh = thresh_dict[name]\n",
    "        \n",
    "        # first two rows: scatter with unid, cumulative \n",
    "        unid_data = subs['unid']['data']\n",
    "        unid_kde = unid_data.unid_kde\n",
    "        unid_kw = dict(ax=axx[0,col], x=x, y=unid_kde, edgecolor='none',)\n",
    "        sns.scatterplot(unid_data, **unid_kw, c='0.5', s=10).set(title=name)\n",
    "        for tname,color in zip(names, 'red orange limegreen'.split()):\n",
    "            sns.scatterplot(unid_data[unid_data[tname+'_kde']>thresh_dict[tname]], **unid_kw, c=color, s=20)\n",
    "        sns.ecdfplot(unid_data, ax=(axu:=axx[1,col]), x=x,).set(ylim=(0.8,1))  \n",
    "       \n",
    "        #second two rows: kde of name\n",
    "        sub_kde=subs[name]['data'][name+'_kde']\n",
    "        sns.histplot(ax=axx[2,col], x=sub_kde, element='step', bins=25)\n",
    "        sns.ecdfplot(ax=(axs:=axx[3,col]), x=sub_kde)\n",
    "    \n",
    "        # plot position of thresholds, calcualte estimate\n",
    "    \n",
    "        unid_kde_sub = unid_data[x]\n",
    "        nu = len(unid_kde_sub); ku = np.sum(unid_kde_sub>thresh)\n",
    "        ns = len(sub_kde);  ks = np.sum(sub_kde>thresh)\n",
    "        estimate = int(ns/ks * ku)\n",
    "        axu.plot(thresh, (nu-ku)/nu, 'or', ms=10, label=f'{ku}/{nu}'); \n",
    "        axu.legend(loc='lower right', fontsize=12)\n",
    "        axs.plot(thresh, (ns-ks)/ns, 'or', ms=10,label=f'{ks}/{ns}\\n->{estimate} '); \n",
    "        axs.legend(loc='lower right', fontsize=12)\n",
    "        subs[name]['estimate']=estimate   \n",
    "        subs[name]['factor'] = estimate/ns\n",
    "        for ax in axx[:,col]:\n",
    "            ax.axvline(thresh, ls='--', color='pink')\n",
    "    fig.text(0.06, 0.6, 'unid kde', rotation='vertical', va='center', ha='center' )\n",
    "    fig.text(0.06, 0.3, 'component kde', rotation='vertical', va='center', ha='center' )\n",
    "        \n",
    "    return fig"
   ]
  },
  {
   "cell_type": "code",
   "execution_count": null,
   "id": "7bf1c4bc-6dfd-4f30-b470-b6837793f64b",
   "metadata": {},
   "outputs": [],
   "source": [
    "show(f\"\"\"## Large KDE analysis\n",
    "Idea: Estimate fractional component of the known types based on number of \n",
    "high-kde values, and individual distsribution.\"\"\")\n",
    "\n",
    "\n",
    "subs = dict( (name, dict(data=sdf)) for name,sdf in data.groupby('subset'))\n",
    "show_fig(kde_analysis, data, subs, class_names,\n",
    "         thresh_dict=dict(psr=1.5, msp= 1.5,blazar= 1) )"
   ]
  },
  {
   "cell_type": "code",
   "execution_count": null,
   "id": "aab27760-5362-4ea2-b1a2-4725a80a876c",
   "metadata": {},
   "outputs": [],
   "source": [
    "show(\"\"\"## Define a partial likelihood and maximize it\n",
    "That is, form the likelihood using the probabilities for each known component class defined by \n",
    "the KDE analysis and optimize unknown factors for each one.\n",
    "This is partial since the gevatar probability distribution is unknown.\"\"\")\n",
    "\n",
    "class UnidLikelihood:\n",
    "    def __init__(self, data, names):\n",
    "        self.data = data\n",
    "        self.names = names\n",
    "        sub_df = dict((name, df) for name,df in data.groupby('subset'))        \n",
    "        self.g = g = sub_df['unid'].loc[:,[name+'_kde' for name in names]]\n",
    "        self.norms = data.groupby('subset').size()[names].values\n",
    "    \n",
    "    def __call__(self, counts):\n",
    "        alpha = counts/self.norms\n",
    "        t = (self.g*alpha).sum(axis=1)\n",
    "        return  (np.log(t) -t).sum()\n",
    "\n",
    "    def fit(self, x0=np.array([250,200,300])) :\n",
    "        from scipy  import optimize\n",
    "        opt = optimize.minimize(lambda x: -self(x), \n",
    "             x0=x0, method='L-BFGS-B')\n",
    "        B = opt.hess_inv  # LinearOperator object\n",
    "        cov = B * np.identity(B.shape[1]) \n",
    "        diag = cov.diagonal()\n",
    "\n",
    "        nfit = pd.Series(opt.x, index=self.names,name='counts')\n",
    "        sigs = pd.Series(np.sqrt(diag), index=self.names, name='+/-')\n",
    "        return pd.DataFrame([nfit, sigs])\n",
    "        \n",
    "\n",
    "UL = UnidLikelihood(data, names[:3])\n",
    "show('Results:')\n",
    "with pd.option_context('display.precision', 0):\n",
    "    show((ulfit:=UL.fit()))\n",
    "show(f'Estimate for the gevatar content: {len(unid)-int(ulfit.sum(axis=1)[0])}.')\n"
   ]
  },
  {
   "cell_type": "code",
   "execution_count": null,
   "id": "cccd0976-41b5-44d6-94a1-a6cf3740c9dc",
   "metadata": {},
   "outputs": [],
   "source": [
    "kdes['unid']"
   ]
  },
  {
   "cell_type": "code",
   "execution_count": null,
   "id": "fbe6ca49-7045-44d0-b2aa-c3715e0ff593",
   "metadata": {},
   "outputs": [],
   "source": [
    "def diffuse_contributions(data, kdes, model, *, ax=None, var, bins,xlim, legend_pos=None, dcut=1.95):\n",
    "    \n",
    "    \"\"\" Histogram of the diffuse parameter D for unid's.\n",
    "    Also shown overlayed plots of the KDE approximations\n",
    "    to known categories, with estimated normalizations.\n",
    "    \"\"\"\n",
    "    from pylib.kde import Gaussian_kde\n",
    "    # kdes = [Gaussian_kde(  data.query(f'subset==\"{subset}\"'), cols=[var]) for subset in model['names']] \n",
    "    unid = data[data.subset==\"unid\"]\n",
    "    # scaling from density to coiunts\n",
    "    N, binsize = len(unid), bins[1]-bins[0]\n",
    "    factor = binsize# *N\n",
    "    \n",
    "    fig, ax = plt.subplots(figsize=(8,6)) if ax is None else (ax.figure, ax)\n",
    "    hkw = dict(element='step', x=var, bins=bins)\n",
    "    sns.histplot(unid, ax=ax,  # hue='in_corner', alpha=0.6, palette='grey red'.split(),\n",
    "              edgecolor='w'if dark_mode else 'k', color='0.5' if dark_mode else '0.8', **hkw) \n",
    "    # sns.histplot(unid[unid.d>dcut], color='1', **hkw)\n",
    "    \n",
    "    if var != 'log_epeak':\n",
    "        ax.set(xlabel=var )#xlim=(-1,2.5), xticks=np.arange(-1, 2.1, 1)\n",
    "    else: ax.set(**epeak_kw())\n",
    "    \n",
    "    axt = ax.twinx()\n",
    "    colors = palette = self.palette #['cyan', 'magenta', 'yellow']\n",
    "    \n",
    "    x=np.linspace(bins[0], bins[-1], 52)\n",
    "    \n",
    "    yy = np.array(\n",
    "        [factor*norm* kde.evaluate(x) for (kde,norm) in zip(kdes, model['norms'])]\n",
    "    )\n",
    "                      \n",
    "    \n",
    "    for y, name, count, color in zip(yy, model['names'], model['norms'],\n",
    "                                    'red orange limegreen'.split(), ):\n",
    "        axt.plot(x,y, label=f'{name} ({count})', ls='-', lw=2, color=color)\n",
    "    axt.plot(x, np.sum(yy,axis=0), ls='-', color='w', lw=4, label='total')\n",
    "    if legend_pos is not None:\n",
    "        axt.legend(fontsize=12, bbox_to_anchor=legend_pos, loc='upper left',)\n",
    "\n",
    "    axt.set(ylim=ax.get_ylim(), xlim=xlim)\n",
    "    axt.get_yaxis().set_visible(False)\n",
    "    return fig"
   ]
  },
  {
   "cell_type": "code",
   "execution_count": null,
   "id": "a2a5579c-f07d-4ace-8c13-92d157689d20",
   "metadata": {},
   "outputs": [],
   "source": [
    "show(f\"\"\"## Projections showing predicted target distributions\"\"\")\n",
    "def projection(subs, norms,  names, features):\n",
    "    model = dict(names = names,\n",
    "                 norms=np.array(norms), # [subs[name]['estimate'] for name in names], #[201,181,109],\n",
    "                )\n",
    "    var_dict = dict( (name, bins) for name,bins in zip(features,\n",
    "                    [np.arange(0.2, 2.01,0.05), np.arange(*np.log10([0.2,4]),0.1),  \n",
    "                     np.arange(-1,2.6, 0.1), ],  \n",
    "                   ))\n",
    "    fig, axx = plt.subplots(ncols=3, figsize=(15,4), gridspec_kw=dict(wspace=0.25))\n",
    "    for  (var, bins), xlim, ax, lpos in zip (var_dict.items(), \n",
    "                                           [(0,2.1), (-1,1), (-1,2.2)],\n",
    "                                           axx, \n",
    "                                           [None,None, (1.04,1)]\n",
    "                                         ):\n",
    "        diffuse_contributions( data, model, ax=ax, var=var, bins=bins, xlim=xlim, legend_pos=lpos)\n",
    "    return fig\n",
    "features='d log_epeak diffuse'.split()\n",
    "show_fig(projection, subs, [246,208,250], class_names, features=features)"
   ]
  },
  {
   "cell_type": "code",
   "execution_count": null,
   "id": "32731d1e-4c75-450d-b74d-e6a53cf3168a",
   "metadata": {},
   "outputs": [],
   "source": [
    "unid = data[data.subset==\"unid\"]\n",
    "show(f\"\"\"### Check high $d$ and $D$\"\"\")\n",
    "# $E_p$ vs $D$ for $d>{(dcutvalue:=1.9)}$: {sum((dcut:= unid.d>1.95))} sources.\"\"\")\n",
    "\n",
    "fig = plt.figure(layout=\"constrained\", figsize=(10, 5 ))\n",
    "fig1, fig2 = fig.subfigures(ncols=2) \n",
    "ax = fig1.subplots()\n",
    "fig1.suptitle(f\"\"\"High curvature\\n $D$ vs $E_p$: {sum((dcut:= unid.d>1.95))} sources with $d>{(dcutvalue:=1.9)}$\"\"\")\n",
    "sns.scatterplot(unid[dcut], ax=ax, x='log_epeak', y='diffuse')\n",
    "ax.set(**epeak_kw(), ylabel='D', yticks=np.arange(0,2.1,1));\n",
    "\n",
    "ax = fig2.subplots()\n",
    "Dcut= unid.diffuse>1.5\n",
    "fig2.suptitle(f\"\"\"Very galactic\\n$d$ vs $E_p$: {sum(Dcut)} sources with $D>1.5$\"\"\")\n",
    "sns.scatterplot(unid[Dcut] ,ax=ax,  x='log_epeak', y='d')\n",
    "ax.set(**epeak_kw(), yticks=np.arange(0,2.1,0.5))\n",
    "show(fig)\n",
    "\n"
   ]
  },
  {
   "cell_type": "code",
   "execution_count": null,
   "id": "dc5874de-f9d5-454b-bbc3-ce5e2ec4c5a9",
   "metadata": {
    "jupyter": {
     "source_hidden": true
    }
   },
   "outputs": [],
   "source": [
    "show(f\"\"\"### Weighted distributions?\n",
    "(Not now)\"\"\")\n",
    "# For each unid source, \"\"\")\n",
    "# # from pylib.kde import Gaussian_kde\n",
    "# # kdes = dict((subset, Gaussian_kde(  data.query(f'subset==\"{subset}\"'), \n",
    "# #                      cols=(kde_vars := 'd log_epeak diffuse'.split()))) for subset in names )\n",
    "\n",
    "# norms =np.array([246,208,250]) / [len(data[data.subset==name]) for name in names]\n",
    "# K = unid.loc[:, [name+'_kde' for name in names] ]\n",
    "# t = (K * norms).sum(axis=1)\n",
    "# ax =  sns.histplot(t, element='step', bins=25)\n",
    "# ax.set(xlabel='Sum of KDE probabilities')\n",
    "# show(ax.figure)\n"
   ]
  },
  {
   "cell_type": "code",
   "execution_count": null,
   "id": "e1d779f8-7785-4600-b3cb-6ad3f4c30f99",
   "metadata": {},
   "outputs": [],
   "source": [
    "def plot_spectral(self, df, emax=1.5):\n",
    "    \"\"\"Spectral shape scatter plots: curvature $d$ vs $E_p$ for the associated sources on the left, and \n",
    "    the unid's on the right.\n",
    "    \"\"\"\n",
    "\n",
    "    fig, (ax1,ax2) = plt.subplots(ncols=2, figsize=(15,6), sharex=True, sharey=True,\n",
    "                                gridspec_kw=dict(wspace=0.08))\n",
    "    kw = dict(x='log_epeak', y='d',  hue='subset', edgecolor='k',)\n",
    "    sns.scatterplot(df[np.isin(df.subset, self.target_names)], \n",
    "                    ax=ax1,  s=50, **kw,\n",
    "                    palette=self.palette,    markers='oDv', \n",
    "                    legend='brief');\n",
    "    ax1.set(**epeak_kw(), yticks=np.arange(0.5,2.1,0.5), ylabel='Curvature ${d}$',\n",
    "        xlim=(-1,1),ylim=(0.1,2.1));\n",
    "    ax1.legend(loc='upper right')\n",
    "    \n",
    "    sns.scatterplot(df[df.subset=='unid'], ax=ax2, **kw, \n",
    "                     color='0.8' if dark_mode else '0.2', legend=False, s=30 )\n",
    "    # sns.kdeplot(df, ax=ax2, **kw, hue_order=self.target_names, palette=self.palette, alpha=0.4,legend=False );\n",
    "    ax2.set(**epeak_kw(),)# yticks=np.arange(0.5,2.1,0.5));\n",
    "    return fig\n",
    "show(f\"\"\"## Spectral shapes of the associated and unid sources. \"\"\")\n",
    "show_fig( plot_spectral, self, data) #.query('0.2<diffuse<1.2'),)"
   ]
  },
  {
   "cell_type": "code",
   "execution_count": null,
   "id": "1bcb1f08-a9af-4812-969a-b052088dcb53",
   "metadata": {},
   "outputs": [],
   "source": [
    "show(f\"\"\"## The threshold effect\n",
    "\"\"\")\n",
    "\n",
    "(sns.JointGrid(data, hue='subset', hue_order='psr msp'.split(), height=9,\n",
    "                palette=self.palette[:2],  x='diffuse', y=data.log_fpeak.clip(-2,4.8),)\n",
    "    .plot_joint(sns.scatterplot, edgecolor='none',legend='brief',\n",
    "               markers='oD')\n",
    "    .plot_marginals(sns.histplot, kde=True, element='step', bins=25)\n",
    "    .apply(lambda g: sns.kdeplot(unid,  ax=g.ax_joint, x='diffuse', y='log_fpeak',alpha=0.5))\n",
    "    .apply(lambda g: g.ax_joint.set(**fpeak_kw('y'),  **diffuse_kw()))\n",
    "     .apply(lambda g:g.ax_joint.plot([-0.5, 2], [-1.75, 1.65], \n",
    "                                     ls='--', lw=2, color='0.7' if dark_mode else '0.3')) \n",
    "    .apply(lambda g: show(g.figure))\n",
    ");\n",
    "\n"
   ]
  },
  {
   "cell_type": "code",
   "execution_count": null,
   "id": "cd8949ca-f141-4c39-a4fe-ff94f7cb1d87",
   "metadata": {},
   "outputs": [],
   "source": [
    "psr= data[data.subset=='psr']; \n",
    "from pylib.kde import Gaussian_kde\n",
    "fig = plt.figure(figsize=(6,4))\n",
    "ax = fig.subplots()\n",
    "sns.histplot(psr.diffuse, ax=ax, element='step', bins=25, kde=True);\n",
    "psr_kde = Gaussian_kde(psr, ['diffuse'])\n",
    "binsize=0.1\n",
    "factor = len(psr)*binsize\n",
    "def pfun(kde, x):\n",
    "    return (kde.evaluate(x) + kde.evaluate(4-x))\n",
    "ax.plot((x:=np.arange(-0.5,2.1,0.1)),  pfun(psr_kde,x)*factor, '--')\n",
    "\n",
    "fpcut=30\n",
    "psrx = psr[psr.Fp>fpcut]\n",
    "psr_kdex = Gaussian_kde(psrx, ['diffuse'])\n",
    "ax.plot((x:=np.arange(-0.5,2.1,0.1)),  pfun(psr_kdex,x)*factor,\n",
    "         '--', label=f'$F_p>{fpcut}$')\n",
    "ax.legend()\n",
    "show(fig)"
   ]
  },
  {
   "cell_type": "code",
   "execution_count": null,
   "id": "298d2901-7590-4799-9bd2-f8fa5e9fb190",
   "metadata": {},
   "outputs": [],
   "source": [
    "show(\"\"\"\n",
    "Assumptions about source probability distributions:\n",
    "* The spectral shape ($E_p, d$) is independent of flux or position\n",
    "* Positions, as reflected in the value of $D$, are independent\n",
    "of the the peak flux __except__ for the threshold.\n",
    "* The threshold is a simple function of $D$ with same shape\n",
    "\n",
    "The exception is important since it biases the projections, \n",
    "especially the $D$ one which I naively use.\n",
    "\n",
    "\"\"\")"
   ]
  },
  {
   "cell_type": "code",
   "execution_count": null,
   "id": "7fd649e7-c630-4b80-b4f2-c826d6cdf031",
   "metadata": {},
   "outputs": [],
   "source": [
    "show(f\"\"\"## ECDF and logN-logS\"\"\")\n",
    "pflux = data[data.subset=='psr'].log_epeak; \n",
    "sns.ecdfplot(data, hue='subset', hue_order='psr msp'.split(), x='log_epeak');"
   ]
  },
  {
   "cell_type": "code",
   "execution_count": null,
   "id": "6d93bf0b-14d9-4ac2-ac7c-dff148343d29",
   "metadata": {},
   "outputs": [],
   "source": [
    "show(\"\"\"---\"\"\");raise Exception('Stop here')"
   ]
  },
  {
   "cell_type": "code",
   "execution_count": null,
   "id": "13d675fa-6af0-41f5-a08a-8b03e7200d77",
   "metadata": {},
   "outputs": [],
   "source": [
    "fig = plt.figure(figsize=(10,4))\n",
    "fig.suptitle('Diffuse vs. latitude')\n",
    "sns.scatterplot(data,ax=fig.subplots(),\n",
    "                x='diffuse',y=np.log10(np.abs(data.glat)).clip(-2,2), s=10\n",
    "               ).set(ylabel=r'$\\log_{10}(|b|)$');"
   ]
  },
  {
   "cell_type": "code",
   "execution_count": null,
   "id": "4be8a6d7-cd31-4689-aea8-454252f77abb",
   "metadata": {},
   "outputs": [],
   "source": [
    "def multi_plot(fig, name, adj=0):#1.25):\n",
    "\n",
    "    dft=data.query(f'association==\"{name}\"')\n",
    "    \n",
    "    fig.suptitle(f'{name} - {len(dft)}', fontsize=20)\n",
    "    axx = fig.subplots(ncols=3, gridspec_kw=dict(wspace=0.15) )\n",
    "    sns.histplot(dft, ax=axx[0], x='diffuse', \n",
    "                 element='step', bins=np.arange(-1,2.4,0.1), kde=True).set(xlim=(-1,2.5))\n",
    "    sns.scatterplot(dft, ax=axx[1], x='diffuse', #y='log_fpeak',\n",
    "                    # y='log_fpeak',#\n",
    "                    y= (dft.log_fpeak-adj*dft.diffuse), s=10,\n",
    "                   ).set(xlim=(-1,2.5),ylim=(-3,5), ylabel='adjusted $F_p$')\n",
    "    sns.scatterplot(dft, ax=axx[2], x='log_epeak', y='d', s=10,\n",
    "                   ).set(xticks=np.arange(-1,1.1,1), yticks=np.arange(0,2.2,0.5))\n",
    "\n",
    "show(f\"\"\"## Check specific distributions\"\"\")\n",
    "names = 'unid psr msp spp bcu fsrq bll'.split()\n",
    "fig = plt.figure(layout=\"constrained\", figsize=(12, 3.*len(names)) )\n",
    "\n",
    "for subfig, name in zip( fig.subfigures(len(names), 1, hspace=0.05,), names ):\n",
    "    multi_plot( subfig, name )\n",
    "\n",
    "show(fig)"
   ]
  },
  {
   "cell_type": "code",
   "execution_count": null,
   "id": "bbafc33d-3c1e-4c76-b3ff-f0d4c2b691ae",
   "metadata": {},
   "outputs": [],
   "source": [
    "show(f\"\"\"## Likelihood fit with known components\"\"\")\n",
    "\n",
    "g = unid.loc[:,[name+'_kde' for name in names]]\n",
    "show(f\"\"\"Head of the known component KDE's for the {(N:=len(g))} unids\"\"\")\n",
    "with pd.option_context('display.precision',3):\n",
    "    show((g.head(2)))\n",
    "show(\"Sums:\")\n",
    "show(pd.Series(g.sum(axis=0).round(), name='sum'))\n",
    "\n",
    "\n",
    "s = pd.Series( dict( (name, subs[name]['factor'])  for name in names   ))\n",
    "show(f\"\"\"Estimated factors from large KDE analysis:\"\"\")\n",
    "with pd.option_context('display.precision',2):\n",
    "    show(pd.Series(s,name='factor'))\n",
    "\n",
    "gs = g * np.array([2.0, 1.15, 1.8])\n",
    "a = lambda  k: g.iloc[:,k] #* \n",
    "b = (1/gs.sum(axis=1) -1) #.sum(axis=1)\n",
    "[sum(a(k)*b) for k in range(3)]\n",
    "\n"
   ]
  },
  {
   "cell_type": "code",
   "execution_count": null,
   "id": "12606d33-ba4e-4dda-9183-2b155a3de204",
   "metadata": {},
   "outputs": [],
   "source": [
    "gs = g * np.array([2.0, 1.15, 1.8])\n",
    "\n",
    "def loglike(alpha):\n",
    "    t = (gs*alpha).sum(axis=1)\n",
    "    return  (np.log(t) -t).sum()\n",
    "    \n",
    "x= np.linspace(0.8,1.2, 30)\n",
    "peak = loglike(np.array( [1, 1, 1]))\n",
    "def w(u, k):\n",
    "    t = np.ones(3)\n",
    "    t[k] = u\n",
    "    return t\n",
    "for k, label, ls in zip(range(3), names, ['--', ':', 'dashdot']):\n",
    "    plt.plot(x, [loglike(w(u,k))-peak for u in x], ls=ls, label=label)\n",
    "                                          \n",
    "plt.gca().set(ylim=(-4, 0.05))\n",
    "plt.legend()\n",
    "show(plt.gcf())"
   ]
  },
  {
   "cell_type": "code",
   "execution_count": null,
   "id": "88cfff02-6503-4401-941e-2c2c7a6f0856",
   "metadata": {},
   "outputs": [],
   "source": [
    "sub_df = dict((name, df) for name,df in data.groupby('subset'))\n",
    "sub_df.keys()"
   ]
  },
  {
   "cell_type": "code",
   "execution_count": null,
   "id": "bed52f2c-25b1-4cec-98ed-e5b33cd84703",
   "metadata": {},
   "outputs": [],
   "source": [
    "from scipy  import optimize\n",
    "g = unid.loc[:,[name+'_kde' for name in names]]\n",
    "def loglike(alpha):\n",
    "    t = (g*alpha).sum(axis=1)\n",
    "    return  (np.log(t) -t).sum()\n",
    "    \n",
    "norms = data.groupby('subset').size()[names].values #np.array([128, 169, 162])\n",
    "x0 = np.array([250,200,300])\n",
    "opt = optimize.minimize(lambda x: -loglike(x/norms), \n",
    "         x0=x0, method='L-BFGS-B')\n",
    "B = opt.hess_inv  # LinearOperator object\n",
    "cov = B * np.identity(B.shape[1]) \n",
    "diag = cov.diagonal()\n",
    "nfit = pd.Series(opt.x.round(1), index=names,name='counts')\n",
    "\n",
    "sigs = pd.Series(np.sqrt(diag).round(1), index=names, name='+/-')\n",
    "show(pd.DataFrame([nfit, sigs]))\n",
    "\n",
    "corr = cov/np.outer(sigs,sigs)\n",
    "with pd.option_context('display.precision', 2):\n",
    "    show(pd.DataFrame(corr, index=names, columns=names))\n",
    "# data.groupby('subset').size()[names]"
   ]
  },
  {
   "cell_type": "code",
   "execution_count": null,
   "id": "f1216cc7-52c1-4c4c-b593-ccb5e96334ac",
   "metadata": {},
   "outputs": [],
   "source": [
    "def dloglike(alpha):\n",
    "    t = (gs*alpha).sum(axis=1)\n",
    "    # t = (gs).sum(axis=1) * alpha\n",
    "    return N - np.sum(t)\n",
    "\n",
    "for k, label, ls in zip(range(3), names, ['--', ':', 'dashdot']):\n",
    "    plt.plot(x, [dloglike(w(u,k)) for u in x], ls=ls, label=label)\n",
    "plt.legend()\n",
    "show(plt.gcf())\n",
    "show( \n",
    "    np.sum(gs.sum(axis=1))/N \n",
    "    )"
   ]
  },
  {
   "cell_type": "code",
   "execution_count": null,
   "id": "2a9f8648-91f0-4929-a59d-b3c9ec6ef9ba",
   "metadata": {},
   "outputs": [],
   "source": [
    "import numdifftools as nd\n",
    "hess = nd.Hessian(loglike)\n",
    "cov = np.linalg.inv(-hess(alpha)); \n",
    "diag = cov.diagonal()\n",
    "sigs = np.sqrt(diag)\n",
    "corr = cov/np.outer(sigs,sigs)\n",
    "\n",
    "with np.printoptions(precision=3):\n",
    "    print(sigs,'\\n', corr)\n"
   ]
  },
  {
   "cell_type": "code",
   "execution_count": null,
   "id": "b032c11b-3b06-436c-9539-376ec998b754",
   "metadata": {
    "jupyter": {
     "source_hidden": true
    }
   },
   "outputs": [],
   "source": [
    "# class KDEfitter:\n",
    "#     \"\"\"### class KDEfitter\n",
    "#     \"\"\"\n",
    "#     def __init__(self, data, *, names, bins, hue='subset', colname='diffuse'):\n",
    "        \n",
    "#         from pylib.kde import Gaussian_kde\n",
    "#         self.names = names\n",
    "#         self.colname = colname\n",
    "#         # make list of 1D KDEE\n",
    "#         self.kdes = [\n",
    "#             Gaussian_kde(data.query(f'{hue}==\"{name}\"'), cols=[colname] )\n",
    "#                                    for name in names\n",
    "#                                     ]\n",
    "#         self.data = data\n",
    "#         self.hist, self.bins = np.histogram(self.data[self.data.unid][self.colname], bins=bins,)\n",
    "#         self.x = ( bins[1:]+bins[:-1] )/2\n",
    "        \n",
    "#     def __repr__(self):\n",
    "#         return f'KDEfittter using kdes\\n {self.kdes}'\n",
    "\n",
    "#     def eval(self, norms):\n",
    "#         \"\"\" Evaluate expected counts\n",
    "#         \"\"\"\n",
    "#         h,bins, x = self.hist, self.bins, self.x\n",
    "#         N = h.sum()\n",
    "#         factor = N*(bins[1]-bins[0]) # assume uniform\n",
    "#         yy = np.array(np.array(\n",
    "#                 [norm*kde.evaluate(x) for (kde,norm) in zip(self.kdes,norms)]\n",
    "#                 )) \n",
    "#         u  = np.sum(yy, axis=0)*factor\n",
    "\n",
    "#         return pd.DataFrame.from_dict(dict(x=x,u=u, h=h))\n",
    "        \n",
    "#     def plot(self, ax, norms):\n",
    "#         # make a twin for separate legend\n",
    "#         axt = ax.twinx()        \n",
    "#         x = np.linspace(*ax.get_xlim(), 52)\n",
    "#         yy = np.array(np.array(\n",
    "#             [norm*kde.evaluate(x) for (kde,norm) in zip(self.kdes,norms)]\n",
    "#             ))                  \n",
    "#         for y, name in zip(yy, self.names):\n",
    "#             axt.plot(x,y, label=name, ls='--', lw=2)\n",
    "#         axt.plot(x, np.sum(yy,axis=0), ls='-', lw=2, label='total')\n",
    "#         # same scale--dendsity\n",
    "#         axt.set(ylim=ax.get_ylim())\n",
    "\n",
    "#         axt.legend(title='KDE overlay',loc='center right',fontsize=12)\n",
    "#         axt.get_yaxis().set_visible(False)\n",
    "# show(KDEfitter.__doc__)\n",
    "# kdef = KDEfitter(data, names=names, bins=None, colname=features)"
   ]
  },
  {
   "cell_type": "code",
   "execution_count": null,
   "id": "a2f18c6f-7b8d-4f6f-897e-ac4949f66535",
   "metadata": {},
   "outputs": [],
   "source": [
    "show(f\"\"\"## Show $D$ dependence in unid $d$ vs. $E_p$ plot \"\"\")\n",
    "fig, ax = plt.subplots(figsize=(10,8))\n",
    "kw = dict(x='log_epeak', y='d',   edgecolor='k',)\n",
    "# sns.scatterplot(unid, ax=ax, **kw, \n",
    "#                  # color='0.8' if dark_mode else '0.2', \n",
    "#                 c = unid.diffuse,\n",
    "#                 legend=False, s=30, cmap='coolwarm' )\n",
    "scat = plt.scatter(x=unid.log_epeak, y=unid.d,\n",
    "                c = unid.diffuse.clip(-0.5,2),s=30, cmap='rainbow' )\n",
    "               \n",
    "ax.set(**epeak_kw(), yticks=np.arange(0,2.1,0.5),ylabel='$d$')\n",
    "plt.colorbar(scat).set_label('$D$')\n",
    "show(fig)"
   ]
  },
  {
   "cell_type": "code",
   "execution_count": null,
   "id": "d8591ee5-7fcb-4bf3-9756-5e52d5fc64bb",
   "metadata": {},
   "outputs": [],
   "source": [
    "show(\"\"\"## Correlation between peak and diffuse fluxes\"\"\")\n",
    "show(f\"\"\" Correlation factor: {(factor:=1.25)}\"\"\") \n",
    "(sns.JointGrid(data, x='diffuse', y=(data.log_fpeak-factor*data.diffuse).clip(-3,2), \n",
    "                 xlim=(-1,2.4), ratio=6, height=8)\n",
    "   .plot_marginals( sns.histplot, element='step', kde=True)\n",
    "   .plot_joint(sns.regplot, ci=95, scatter_kws=dict(s=10, alpha=0.5), \n",
    "               line_kws=dict(color='r',lw=2))\n",
    "   .apply(lambda g: g.ax_joint.set(ylabel=r'Adjusted peak flux: $\\log F_p - 1.25\\ D$', \n",
    "            xlabel='Diffuse correlation $D$',  xticks=np.arange(-1,2.1,1)))\n",
    "   .apply(lambda g: show(g.figure))\n",
    ");\n",
    "# show(plt.gcf())#joint_kws=dict(s=10));\n"
   ]
  },
  {
   "cell_type": "code",
   "execution_count": null,
   "id": "ba3c6db3-c090-4d54-aaf5-e8961e60fe17",
   "metadata": {},
   "outputs": [],
   "source": [
    "show(f\"\"\"## What about \"spp\" sources?\n",
    "From the 4FGL paper:\n",
    ">SPP stands for \"SNR, Pulsar or PWN\" and refers to sources of unknown nature but overlapping with known SNRs or \n",
    "PWNe and thus candidate members of these classes.\n",
    "\"\"\")"
   ]
  },
  {
   "cell_type": "code",
   "execution_count": null,
   "id": "833f7d90-905b-452d-8e8e-1187257d4314",
   "metadata": {},
   "outputs": [],
   "source": [
    "show(f\"\"\"---\n",
    "# End \"\"\")\n",
    "raise Exception('Stop here')"
   ]
  },
  {
   "cell_type": "code",
   "execution_count": null,
   "id": "55a1ca87-1344-40ea-a054-90bd80da5f58",
   "metadata": {
    "jupyter": {
     "source_hidden": true
    }
   },
   "outputs": [],
   "source": [
    "from pylib.kde import Gaussian_kde\n",
    "gdes = dict( (name, Gaussian_kde(sdf, 'diffuse log_epeak d'.split()) )\n",
    "                for name, sdf in data.groupby('subset') \n",
    "           )\n",
    "    \n",
    "\n",
    "gdes"
   ]
  },
  {
   "cell_type": "code",
   "execution_count": null,
   "id": "19f887ea-b681-47f9-ab13-c7e063baba6e",
   "metadata": {
    "collapsed": true,
    "jupyter": {
     "outputs_hidden": true,
     "source_hidden": true
    }
   },
   "outputs": [],
   "source": []
  },
  {
   "cell_type": "code",
   "execution_count": null,
   "id": "4286c991-0d5d-47e4-91cc-26eee940b87b",
   "metadata": {
    "jupyter": {
     "source_hidden": true
    }
   },
   "outputs": [],
   "source": [
    "    \n",
    "def evaluate(self, norms):\n",
    "    \"\"\" Evaluate expected counts\n",
    "    \"\"\"\n",
    "    n, bins, x = self.hist, self.bins, self.x\n",
    "    N = n.sum()\n",
    "    factor = N*(bins[1]-bins[0]) # assume uniform\n",
    "    yy = np.array(\n",
    "            [norm*kde.evaluate(x) for (kde,norm) in zip(self.kdes,norms)]\n",
    "            )\n",
    "    u  = np.sum(yy, axis=0)*factor\n",
    "\n",
    "    df = DataFrame.from_dict(dict(x=x, u=u, n=n), orient='index')\n",
    "    mask =  x >1.4\n",
    "    mask  = x<0\n",
    "   \n",
    "    return np.sum( (n * np.log(u)-u ) * mask)\n",
    "\n",
    "plt.plot((x:=np.arange(0.2,0.5, 0.025)), \n",
    "          [evaluate(self, [0.03, 0.37, x]) for x in x], 'o--');\n",
    "[(x, evaluate(self, [0.05, x, 0.5])) for x in np.arange(0.2,0.5, 0.02)]\n",
    "\n",
    "self = KDEfitter(data, names='blazar psr msp'.split(), bins= np.arange(-1,2.6, 0.1 ))\n",
    "\n",
    "# fig, ax = plt.subplots(figsize=(8,6))\n",
    "\n",
    "# sns.histplot(data[data.subset=='unid'], ax=ax, x='diffuse', hue='in_corner', alpha=0.6, palette='grey red'.split(),\n",
    "#          element='step',  edgecolor='w', bins=self.bins,multiple='stack',stat='density');\n",
    "# ax.set(xlim=(-1,2.5), xticks=np.arange(-1, 2.1, 1),xlabel='$D$')\n",
    "# self.plot(ax=ax, norms = [0.03, 0.36, 0.4])\n",
    "\n",
    "# show(fig)\n",
    "# show(f\"\"\"Procedure:\n",
    "# * Fit the psr component to D>1.4\n",
    "# * fit blazar and msp components with D<0 \"\"\")"
   ]
  },
  {
   "cell_type": "code",
   "execution_count": null,
   "id": "777e3e11-ad9f-47d2-b946-e484c41f2615",
   "metadata": {
    "jupyter": {
     "source_hidden": true
    }
   },
   "outputs": [],
   "source": [
    "# # fig, ax = plt.subplots(figsize=(8,6))\n",
    "# df = self.eval((norms:= [0.05, 0.35, 0.3]))\n",
    "# # sns.scatterplot(df, ax=ax, x='x', y='u', markers=['+'])\n",
    "# # sns.scatterplot(df, ax=ax, x='x', y='h')\n",
    "# # show(fig)\n",
    "# loglike = lambda s: s.h * np.log(s.u) - s.u\n",
    "# (np.sum(df.apply(loglike, axis=1)),\n",
    "# evaluate(self, norms),)\n",
    "# 1.0 * False\n"
   ]
  },
  {
   "cell_type": "code",
   "execution_count": null,
   "id": "b99ef1ef-262f-4bf6-9084-b12832f3f7ef",
   "metadata": {
    "jupyter": {
     "source_hidden": true
    },
    "scrolled": true
   },
   "outputs": [],
   "source": [
    "dr4 = Fermi4FGL('dr4')\n",
    "dr4.loc[final.index]"
   ]
  },
  {
   "cell_type": "code",
   "execution_count": null,
   "id": "b95b846e-cac4-4d56-9d58-812fd53ed13e",
   "metadata": {
    "jupyter": {
     "source_hidden": true
    },
    "scrolled": true
   },
   "outputs": [],
   "source": [
    "pd.set_option('display.precision',3)\n",
    "show(final)\n",
    "show(f'{len(final)} sources')\n"
   ]
  },
  {
   "cell_type": "code",
   "execution_count": null,
   "id": "3f1fda83-4111-4417-a16e-3e1fc207ddcc",
   "metadata": {
    "jupyter": {
     "source_hidden": true
    }
   },
   "outputs": [],
   "source": [
    "raise Exception(\"Stop here\")"
   ]
  },
  {
   "cell_type": "code",
   "execution_count": null,
   "id": "383fbeff-65cf-4d58-b1a5-bb65c2be6bf9",
   "metadata": {
    "jupyter": {
     "source_hidden": true
    }
   },
   "outputs": [],
   "source": [
    "show(f\"\"\"## Look at the 3PC table 5\"\"\")\n",
    "t5=\"\"\"\\\n",
    "   J0300.4+3450\n",
    "   J0924.1-5202\n",
    "   J1054.0-5938\n",
    "   J1147.7-6618\n",
    "   J1155.6-6245\n",
    "   J1302.9-6349\n",
    "   J1306.8-4035\n",
    "   J1331.7-0343\n",
    "   J1431.5-6627\n",
    "   J1440.2-5505\n",
    "   J1456.4-5923\n",
    "   J1534.7-5842\n",
    "   J1545.2-4553\n",
    "   J1550.8-5424\n",
    "   J1604.5-4441\n",
    "   J1616.6-5009\n",
    "   J1631.7-4826\n",
    "   J1731.7-1850\n",
    "   J1740.6-3430\n",
    "   J1743.0-3201\n",
    "   J1743.9-3539\n",
    "   J1801.6-1418\n",
    "   J1807.1+2822\n",
    "   J1811.5-1925\n",
    "   J1812.2-0856\n",
    "   J1838.4-0545\n",
    "   J1850.3-0031\n",
    "   J1852.6+0203\n",
    "   J1851.8-0007\n",
    "   J1855.2+0456\n",
    "   J1857.9+0313\n",
    "   J1900.8+0118\n",
    "   J1904.7+0615\n",
    "   J1906.2+0631\n",
    "   J1906.2+0631\n",
    "   J1908.7+0812\n",
    "   J1911.3+1055\n",
    "   J1915.3+1149\n",
    "   J1916.3+1108\n",
    "   J1929.0+1729\n",
    "   J1929.0+1729\n",
    "   J1930.5+1853\n",
    "   J1950.6+2416\n",
    "   J1957.3+2517\n",
    "   J2015.3+0758\n",
    "   J2052.3+4437\n",
    "   J2052.3+4437\n",
    "   J2055.8+1545\n",
    "   J2325.9+6206\"\"\".split('\\n')[1:]\n",
    "names = np.array(['4FGL '+line.split()[0] for line in t5]); names\n",
    "missing = ~np.isin(names, data.index); \n",
    "sum(missing), names[missing]"
   ]
  },
  {
   "cell_type": "code",
   "execution_count": null,
   "id": "c4d7af3e-f096-4dfe-9218-113ca99a3300",
   "metadata": {
    "jupyter": {
     "source_hidden": true
    }
   },
   "outputs": [],
   "source": [
    "dr4=Fermi4FGL()\n",
    "dr4.loc[names[missing]]"
   ]
  },
  {
   "cell_type": "code",
   "execution_count": null,
   "id": "fb6671a8-0703-4dd2-b186-a770410de510",
   "metadata": {
    "jupyter": {
     "source_hidden": true
    },
    "scrolled": true
   },
   "outputs": [],
   "source": [
    "dfi['d'] = data.d\n",
    "dfi['d_unc'] = data.d_unc\n",
    "\n",
    "from pylib.catalogs import UWcat\n",
    "uwcat = UWcat('uw1410'); uwcat.head()\n",
    "\n",
    "# uwx.pars.apply(lambda p: eval(p.split()[2])).values\n",
    "# len(uwx)\n",
    "\n",
    "# dfi['uw_name uw_pos uw_r95 d d_unc '.split()].sort_index()"
   ]
  },
  {
   "cell_type": "code",
   "execution_count": null,
   "id": "8b17ddba-89b7-4cd1-b2a2-4f2b80400cf9",
   "metadata": {
    "jupyter": {
     "source_hidden": true
    }
   },
   "outputs": [],
   "source": [
    "fig, ax = plt.subplots(figsize=(6,6))\n",
    "ax = sns.scatterplot(ax=ax, x=final.r95, y=dfi.uw_r95)\n",
    "ax.set(xlim=(0,.2,),ylim=(0,0.2), xticks=np.arange(0,0.21,0.05),yticks=np.arange(0,0.21,0.05))\n",
    "ax.plot((0,.2),(0,.2), '--'); "
   ]
  },
  {
   "cell_type": "code",
   "execution_count": null,
   "id": "fec49ad9-dcad-4c22-9350-134e98f0d4c6",
   "metadata": {
    "jupyter": {
     "source_hidden": true
    },
    "scrolled": true
   },
   "outputs": [],
   "source": [
    "show(\"\"\"---\"\"\")\n",
    "kent=\"\"\"\\\n",
    "4FGL J0009.2+1745\n",
    "4FGL J0144.3+5959\n",
    "4FGL J0202.4+2943\n",
    "4FGL J0418.9+6636\n",
    "4FGL J0609.0+2136\n",
    "4FGL J0904.7-4908\n",
    "4FGL J1155.6-6245\n",
    "4FGL J1205.1-5951\n",
    "4FGL J1415.9-1504\n",
    "4FGL J1418.7-6110\n",
    "4FGL J1619.8-6314\n",
    "4FGL J1653.2-4349\n",
    "4FGL J1709.4-2127\n",
    "4FGL J1711.4-2526\n",
    "4FGL J1730.1-3422\n",
    "4FGL J1745.6-3145\n",
    "4FGL J1902.5+0654\n",
    "4FGL J1919.4+1313\n",
    "4FGL J1924.8-1035\"\"\".split('\\n')\n",
    "show(f\"\"\"## Kent's \"dummy\" list of {len(kent)}\"\"\")\n",
    "show(f\"\"\"In data, len {len(data)}: {sum(np.isin(kent,data))} are in.\"\"\")\n",
    "# sns.scatterplot(data.loc[kent], x='Ep', y='d');"
   ]
  },
  {
   "cell_type": "code",
   "execution_count": null,
   "id": "a3fc4168-32d3-4dca-8292-b77738369cf8",
   "metadata": {
    "jupyter": {
     "source_hidden": true
    }
   },
   "outputs": [],
   "source": [
    "table3=\"\"\"\\\n",
    "4FGL J0159.0+3313 bll\n",
    "4FGL J0409.2+2542 bll\n",
    "4FGL J0800.9+0733 bll\n",
    "4FGL J0838.5+4013 bll\n",
    "4FGL J0914.5+6845 bll\n",
    "4FGL J1557.2+3822 bll\n",
    "4FGL J0037.2-2653 blz\n",
    "4FGL J0137.3-3239 blz\n",
    "4FGL J0406.2+0639 blz\n",
    "4FGL J0723.1-3048 blz\n",
    "4FGL J0737.4+6535 blz\n",
    "4FGL J0755.9-0515 blz\n",
    "4FGL J0906.1-1011 blz\n",
    "4FGL J0934.5+7223 blz\n",
    "4FGL J1047.2+6740 blz\n",
    "4FGL J1049.8+2741 blz\n",
    "4FGL J1111.4+0137 blz\n",
    "4FGL J1114.6+1225 blz\n",
    "4FGL J1122.0-0231 blz\n",
    "4FGL J1224.6+7011 blz\n",
    "4FGL J1256.8+5329 blz\n",
    "4FGL J1623.7-2315 blz\n",
    "4FGL J1648.7+4834 blz\n",
    "4FGL J1818.5+2533 blz\n",
    "4FGL J1856.1-1222 blz\n",
    "4FGL J2326.9-4130 blz\n",
    "4FGL J0204.7+6656  psr\n",
    "4FGL J0533.6+5945  psr\n",
    "4FGL J0752.0-2931  psr\n",
    "4FGL J0752.0-2931  psr\n",
    "4FGL J0754.9-3953  psr\n",
    "4FGL J1203.5-1748  psr\n",
    "4FGL J1203.5-1748  psr\n",
    "4FGL J1356.6+0234  psr\n",
    "4FGL J1407.7-3017  psr\n",
    "4FGL J1407.7-3017  psr\n",
    "4FGL J1530.0-1522  psr\n",
    "4FGL J1711.0-3002  psr\n",
    "4FGL J1735.3-0717  psr\n",
    "4FGL J1739.3-2531  psr\n",
    "4FGL J1747.0-3505  psr\n",
    "4FGL J1805.7+3401  psr\n",
    "4FGL J1813.5+2819  psr\n",
    "4FGL J1908.7+0812  psr\n",
    "4FGL J1940.2-2511  psr\n",
    "4FGL J2026.3+1431  psr\n",
    "4FGL J2108.0+5155  psr\n",
    "4FGL J2108.0+5155  psr\n",
    "4FGL J2114.3+5023  psr\n",
    "4FGL J2117.0+1344  psr\n",
    "4FGL J2117.0+1344  psr\n",
    "4FGL J2250.5+3305  psr\"\"\".split('\\n') #;to_check\n",
    "t3 = {}\n",
    "for line in table3:\n",
    "    t = line.split()\n",
    "    name = t[0]+' '+t[1]\n",
    "    t3[name] = t[-1]\n",
    "t3s = pd.Series(t3, name='msc_id'); len(t3)"
   ]
  },
  {
   "cell_type": "code",
   "execution_count": null,
   "id": "8dd92e30-cf57-4b9b-8cb5-29d607a64db7",
   "metadata": {
    "jupyter": {
     "source_hidden": true
    }
   },
   "outputs": [],
   "source": [
    "t = np.isin(t3s.index, self.df.index, ); len(t), sum(~t), t3s.index[~t] #len(to_check), np.array(to_check)[~t]"
   ]
  },
  {
   "cell_type": "code",
   "execution_count": null,
   "id": "d3c2426a-1448-4b8b-8e7c-0458a8f606c4",
   "metadata": {
    "jupyter": {
     "source_hidden": true
    },
    "scrolled": true
   },
   "outputs": [],
   "source": [
    "indr3 = np.isin( self.df.index, t3s.index)\n",
    "check=self.df[indr3]\n",
    "final = pd.concat([check, t3s], axis=1)['glat glon significance variability Fp Ep d msc_id'.split()]\n",
    "final.groupby('msc_id').size(), len(final)"
   ]
  },
  {
   "cell_type": "code",
   "execution_count": null,
   "id": "2a35779e-fbf5-49f9-a2fa-53edcbcbcfdc",
   "metadata": {
    "jupyter": {
     "source_hidden": true
    },
    "scrolled": true
   },
   "outputs": [],
   "source": [
    "for name, df in final.groupby('msc_id'):\n",
    "    show(f'{name} {len(df)}')\n",
    "    sedplotgrid(df)\n"
   ]
  },
  {
   "cell_type": "code",
   "execution_count": null,
   "id": "104373da-b8e0-40fe-8b23-f1c9015d8cc6",
   "metadata": {
    "jupyter": {
     "source_hidden": true
    }
   },
   "outputs": [],
   "source": [
    "fig, ax = plt.subplots(figsize=(8,5))\n",
    "sns.scatterplot(final, hue='msc_id', x=np.log10(final.Ep), y='d', palette=self.palette, ax=ax);"
   ]
  },
  {
   "cell_type": "code",
   "execution_count": null,
   "id": "f217ebb7-c9c2-45b7-b8b4-88a9dc67573e",
   "metadata": {
    "jupyter": {
     "source_hidden": true
    }
   },
   "outputs": [],
   "source": [
    "ok = np.isin( final.index,dfc.index,)"
   ]
  },
  {
   "cell_type": "code",
   "execution_count": null,
   "id": "6c0660a1-da0e-4f48-b3bf-a5e1cc36f936",
   "metadata": {
    "jupyter": {
     "source_hidden": true
    },
    "scrolled": true
   },
   "outputs": [],
   "source": [
    "final.loc[ok]"
   ]
  },
  {
   "cell_type": "code",
   "execution_count": null,
   "id": "2fae8c27-69bc-48a1-8e27-7b6cc0fb00ee",
   "metadata": {
    "jupyter": {
     "source_hidden": true
    },
    "scrolled": true
   },
   "outputs": [],
   "source": [
    "dfu = dfc.loc[np.isin(dfc.index, final.index,)]['Ep Fp d diffuse glat blazar_kde msp_kde psr_kde'.split()].query('blazar_kde<0.1'); dfu"
   ]
  },
  {
   "cell_type": "code",
   "execution_count": null,
   "id": "6f123874-2138-4a53-bd31-8e101682a7a4",
   "metadata": {
    "jupyter": {
     "source_hidden": true
    }
   },
   "outputs": [],
   "source": [
    "sns.scatterplot(dfu, x='msp_kde', y='psr_kde');"
   ]
  },
  {
   "cell_type": "code",
   "execution_count": null,
   "id": "ab34707a-1968-4ee0-83ee-d1310f3b6002",
   "metadata": {
    "jupyter": {
     "source_hidden": true
    }
   },
   "outputs": [],
   "source": [
    "dfu.query('msp_kde<0.1')"
   ]
  },
  {
   "cell_type": "code",
   "execution_count": null,
   "id": "5ae00d95-6f8f-4c73-b690-cea05473ec8e",
   "metadata": {
    "jupyter": {
     "source_hidden": true
    }
   },
   "outputs": [],
   "source": [
    "show(\"\"\"---\n",
    "# Table 1 of [CXO paper](https://arxiv.org/pdf/2307.13594.pdf)\n",
    "\"\"\")\n",
    "tbl=\"\"\"20324 2018-05-11 9.92 3FGL J1306.3−6043 304.768 2.086 3.51\n",
    "20325 2018-02-18 9.76 3FGL J1906.6+0720 41.193 −0.028 9.95\n",
    "20326 2018-07-07 9.92 3FGL J1104.9−6036 290.233 −0.389 3.72\n",
    "23586 2021-07-10 9.93 4FGL J1736.1−3422 354.31 -1.17 1.9\n",
    "23587 2021-07-24 9.92 4FGL J1639.3−5146 334.25 -3.33 2.7\n",
    "23588 2021-01-28 9.92 4FGL J1203.9−6242 297.52 -0.34 3.8\n",
    "23589 2021-06-20 9.93 4FGL J0854.8−4504 265.61 -0.03 2.3\n",
    "23590 2020-12-14 9.95 4FGL J2035.0+3632 76.6 -2.34 1.2\n",
    "23591 2020-10-25 9.91 4FGL J2041.1+4736 86.1 3.45 2.5\n",
    "23592 2020-11-29 9.92 4FGL J1317.5−6316 305.86 -0.56 1.7\n",
    "23593 2021-03-28 9.92 4FGL J1329.9−6108 307.56 1.38 1.4\n",
    "23594 2020-10-10 9.92 4FGL J0744.0−2525 241.35 -0.74 2.0\n",
    "23595 2021-02-02 10.61 4FGL J1358.3−6026 311.1 1.36 3.1\"\"\"\\\n",
    "    .replace('−','-').replace('J1906.6+0720','J1906.4+0723').replace('3FGL J1104.9-6036','4FGL J1104.9-6037').split('\\n')\n",
    "names = np.array(['4FGL '+line.split()[4]  for line in tbl])\n",
    "show(f'Sources {names}')\n",
    "names\n",
    "#}') for line in tbl:\n",
    "#     toks = line.split()\n",
    "#     print(toks[3:5])    \n",
    "    "
   ]
  },
  {
   "cell_type": "code",
   "execution_count": null,
   "id": "cff30729-0535-43fd-be6f-9b9ff28cf66f",
   "metadata": {
    "jupyter": {
     "source_hidden": true
    }
   },
   "outputs": [],
   "source": [
    "in4fgl = dfc.loc[names].sort_index()\n",
    "from pylib.fermi_sources import sedplotgrid\n",
    "sedplotgrid(in4fgl)"
   ]
  },
  {
   "cell_type": "code",
   "execution_count": null,
   "id": "2390135f-1a14-476b-96bd-95d76214a0df",
   "metadata": {
    "jupyter": {
     "source_hidden": true
    }
   },
   "outputs": [],
   "source": [
    "in4fgl.query('subset==\"unid\"')"
   ]
  },
  {
   "cell_type": "code",
   "execution_count": null,
   "id": "b1fca4b9-a1e2-4315-9943-5cd016d6481e",
   "metadata": {
    "jupyter": {
     "source_hidden": true
    }
   },
   "outputs": [],
   "source": [
    "fig, ax = plt.subplots(figsize=(8,5))\n",
    "from pylib.tools import epeak_kw\n",
    "ax.set(**epeak_kw(), xlim=(-0.5,1))\n",
    "sns.scatterplot(in4fgl, hue='association',x='log_epeak', y='d', s=100,\n",
    "                edgecolor='white', palette=self.palette, ax=ax);"
   ]
  },
  {
   "cell_type": "code",
   "execution_count": null,
   "id": "41f9f0df-4e97-4ce3-9a9f-a20fecab922f",
   "metadata": {
    "jupyter": {
     "source_hidden": true
    }
   },
   "outputs": [],
   "source": [
    "ig, ax = plt.subplots(figsize=(8,5))\n",
    "sns.scatterplot(in4fgl, x='psr_kde', y='msp_kde', s=100,hue='association',\n",
    "               palette=self.palette,ax=ax);"
   ]
  },
  {
   "cell_type": "code",
   "execution_count": null,
   "id": "552a0e00-1cee-405b-9f48-90ce3350aa26",
   "metadata": {
    "jupyter": {
     "source_hidden": true
    }
   },
   "outputs": [],
   "source": [
    "pd.set_option('display.precision',3)\n",
    "dfxx =in4fgl['glon glat d Ep Fp diffuse association psr_kde msp_kde '.split()] \n",
    "show(dfxx)\n"
   ]
  },
  {
   "cell_type": "code",
   "execution_count": null,
   "id": "33472cf3-92fa-473f-8fb7-639e9b4457a1",
   "metadata": {
    "collapsed": true,
    "jupyter": {
     "outputs_hidden": true,
     "source_hidden": true
    }
   },
   "outputs": [],
   "source": []
  },
  {
   "cell_type": "code",
   "execution_count": null,
   "id": "cfc267bd-2fd5-421e-b6fb-1a0f1c220eb3",
   "metadata": {},
   "outputs": [],
   "source": [
    "def diffuse_contributions(data,  model, *, ax=None, var, bins, legend_pos=None):\n",
    "    \n",
    "    \"\"\" Histogram of the diffuse parameter D for unid's.\n",
    "    Also shown overlayed plots of the KDE approximations\n",
    "    to known categories, with estimated normalizations.\n",
    "    \"\"\"\n",
    "    from pylib.kde import Gaussian_kde\n",
    "    kdes = [Gaussian_kde(  data.query(f'subset==\"{subset}\"'), cols=[var]) for subset in model['names']] \n",
    "    unid = data[data.subset==\"unid\"]\n",
    "    # scaling from density to coiunts\n",
    "    N, binsize = len(unid), bins[1]-bins[0]\n",
    "    factor = binsize# *N\n",
    "    \n",
    "    fig, ax = plt.subplots(figsize=(8,6)) if ax is None else (ax.figure, ax)\n",
    "    sns.histplot(unid, ax=ax, x=var, # hue='in_corner', alpha=0.6, palette='grey red'.split(),\n",
    "             element='step',  edgecolor='w', bins=bins, color='0.5',                \n",
    "                 multiple='stack')#,stat='density');\n",
    "    ax.set(xlabel=var, )#xlim=(-1,2.5), xticks=np.arange(-1, 2.1, 1)\n",
    "    \n",
    "    axt = ax.twinx()\n",
    "    colors = palette = self.palette #['cyan', 'magenta', 'yellow']\n",
    "    \n",
    "    x=np.linspace(bins[0], bins[-1], 52)\n",
    "    yy = np.array(np.array([factor*norm*kde.evaluate(x) for (kde,norm) in zip(kdes,model['norms'])]))                  \n",
    "    for y, name, count, color in zip(yy, model['names'], model['norms'],\n",
    "                                    'red orange limegreen'.split(), ):\n",
    "        axt.plot(x,y, label=f'{name} ({count})', ls='-', lw=2, color=color)\n",
    "    axt.plot(x, np.sum(yy,axis=0), ls='-', color='w', lw=4, label='total')\n",
    "    if legend_pos is not None:\n",
    "        axt.legend(fontsize=12, bbox_to_anchor=legend_pos, loc='upper left',)\n",
    "\n",
    "    axt.set(ylim=ax.get_ylim())\n",
    "    axt.get_yaxis().set_visible(False)\n",
    "    return fig"
   ]
  }
 ],
 "metadata": {
  "kernelspec": {
   "display_name": "Python 3 (ipykernel)",
   "language": "python",
   "name": "python3"
  },
  "language_info": {
   "codemirror_mode": {
    "name": "ipython",
    "version": 3
   },
   "file_extension": ".py",
   "mimetype": "text/x-python",
   "name": "python",
   "nbconvert_exporter": "python",
   "pygments_lexer": "ipython3",
   "version": "3.10.10"
  }
 },
 "nbformat": 4,
 "nbformat_minor": 5
}
